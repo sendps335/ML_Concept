{
  "nbformat": 4,
  "nbformat_minor": 0,
  "metadata": {
    "kernelspec": {
      "display_name": "Python 3",
      "language": "python",
      "name": "python3"
    },
    "language_info": {
      "codemirror_mode": {
        "name": "ipython",
        "version": 3
      },
      "file_extension": ".py",
      "mimetype": "text/x-python",
      "name": "python",
      "nbconvert_exporter": "python",
      "pygments_lexer": "ipython3",
      "version": "3.7.9"
    },
    "papermill": {
      "default_parameters": {},
      "duration": 1951.641847,
      "end_time": "2021-03-24T16:21:55.319897",
      "environment_variables": {},
      "exception": null,
      "input_path": "__notebook__.ipynb",
      "output_path": "__notebook__.ipynb",
      "parameters": {},
      "start_time": "2021-03-24T15:49:23.678050",
      "version": "2.2.2"
    },
    "colab": {
      "name": "time-series-using-lightgbm.ipynb",
      "provenance": [],
      "collapsed_sections": []
    }
  },
  "cells": [
    {
      "cell_type": "code",
      "metadata": {
        "_cell_guid": "b1076dfc-b9ad-4769-8c92-a6c4dae69d19",
        "_uuid": "8f2839f25d086af736a60e9eeb907d3b93b6e0e5",
        "execution": {
          "iopub.execute_input": "2021-03-24T15:49:30.470818Z",
          "iopub.status.busy": "2021-03-24T15:49:30.469569Z",
          "iopub.status.idle": "2021-03-24T15:49:30.477337Z",
          "shell.execute_reply": "2021-03-24T15:49:30.476217Z"
        },
        "papermill": {
          "duration": 0.069785,
          "end_time": "2021-03-24T15:49:30.477633",
          "exception": false,
          "start_time": "2021-03-24T15:49:30.407848",
          "status": "completed"
        },
        "tags": [],
        "colab": {
          "base_uri": "https://localhost:8080/"
        },
        "id": "RsVtfLTuOU49",
        "outputId": "23d12c52-0aea-4271-95a6-b882b2c1f782"
      },
      "source": [
        "# Libraries\n",
        "import numpy as np \n",
        "import pandas as pd\n",
        "import os\n",
        "for dirname, _, filenames in os.walk('/content/'):\n",
        "    for filename in filenames:\n",
        "        print(os.path.join(dirname, filename))"
      ],
      "execution_count": 2,
      "outputs": [
        {
          "output_type": "stream",
          "text": [
            "/content/test.csv\n",
            "/content/sample_submission.csv\n",
            "/content/train.csv\n",
            "/content/.config/active_config\n",
            "/content/.config/config_sentinel\n",
            "/content/.config/.last_opt_in_prompt.yaml\n",
            "/content/.config/.last_update_check.json\n",
            "/content/.config/.last_survey_prompt.yaml\n",
            "/content/.config/gce\n",
            "/content/.config/configurations/config_default\n",
            "/content/.config/logs/2021.03.25/13.38.09.835215.log\n",
            "/content/.config/logs/2021.03.25/13.38.26.474054.log\n",
            "/content/.config/logs/2021.03.25/13.38.27.034051.log\n",
            "/content/.config/logs/2021.03.25/13.38.04.266969.log\n",
            "/content/.config/logs/2021.03.25/13.37.29.839683.log\n",
            "/content/.config/logs/2021.03.25/13.37.48.611688.log\n",
            "/content/sample_data/README.md\n",
            "/content/sample_data/anscombe.json\n",
            "/content/sample_data/mnist_test.csv\n",
            "/content/sample_data/california_housing_test.csv\n",
            "/content/sample_data/california_housing_train.csv\n",
            "/content/sample_data/mnist_train_small.csv\n"
          ],
          "name": "stdout"
        }
      ]
    },
    {
      "cell_type": "markdown",
      "metadata": {
        "papermill": {
          "duration": 0.048959,
          "end_time": "2021-03-24T15:49:30.576353",
          "exception": false,
          "start_time": "2021-03-24T15:49:30.527394",
          "status": "completed"
        },
        "tags": [],
        "id": "j2E5RlX0OU51"
      },
      "source": [
        "# Time Series Using LightGBM with Explanations"
      ]
    },
    {
      "cell_type": "markdown",
      "metadata": {
        "papermill": {
          "duration": 0.051208,
          "end_time": "2021-03-24T15:49:30.773500",
          "exception": false,
          "start_time": "2021-03-24T15:49:30.722292",
          "status": "completed"
        },
        "tags": [],
        "id": "58oDdcoQOU5-"
      },
      "source": [
        "In this notebook I will be working with Kaggle's [Store Item Demand Forecasting Challange](https://www.kaggle.com/c/demand-forecasting-kernels-only/overview) dataset in order to deep dive into Time Series Analysis.\n",
        "\n",
        "While exploring in the past in order to find clues for the future, I will be explaining the whole process step by step and also sharing useful theoretical informations that is needed in order to understand the nature of Time Series."
      ]
    },
    {
      "cell_type": "markdown",
      "metadata": {
        "papermill": {
          "duration": 0.047136,
          "end_time": "2021-03-24T15:49:30.870094",
          "exception": false,
          "start_time": "2021-03-24T15:49:30.822958",
          "status": "completed"
        },
        "tags": [],
        "id": "QturE2x6OU6F"
      },
      "source": [
        "# Table of Content\n",
        "\n",
        "1. [Introduction](#section-intro)\n",
        "2. [What is Time Series](#section-ts)\n",
        "3. [ML Project](#section-pro)\n",
        "    * 3.1.[Import Library and Load Dataset](#section-one)\n",
        "    * 3.2.[Exploratory Data Analysis](#section-two)\n",
        "    * 3.3.[Outlier Check](#section-three)    \n",
        "    * 3.4.[Time Series Decomposition](#section-four)\n",
        "    * 3.5.[Feature Engineering](#section-five)\n",
        "        * 3.5.1.[Random Noise](#section-six)  \n",
        "        * 3.5.2.[Lag/Shifted Features](#section-seven)\n",
        "        * 3.5.3.[Rolling Mean/Moving Average](#section-eight)\n",
        "        * 3.5.4.[Exponentially Weighted Mean Features](#section-nine)\n",
        "    * 3.6.[One Hot Encoding](#section-ten)\n",
        "    * 3.7.[Custom Cost Function](#section-eleven)\n",
        "    * 3.8.[Train-Validation Split](#section-twelve) \n",
        "    * 3.9.[Base Model](#section-thirteen)\n",
        "    * 3.10.[Final Model](#section-fourteen)\n",
        "    * 3.11.[Submit Prediction](#section-fifteen)"
      ]
    },
    {
      "cell_type": "markdown",
      "metadata": {
        "papermill": {
          "duration": 0.046257,
          "end_time": "2021-03-24T15:49:30.963230",
          "exception": false,
          "start_time": "2021-03-24T15:49:30.916973",
          "status": "completed"
        },
        "tags": [],
        "id": "QFmYEIt4OU6J"
      },
      "source": [
        "<a id=\"section-intro\"></a>\n",
        "# 1.Introduction"
      ]
    },
    {
      "cell_type": "markdown",
      "metadata": {
        "papermill": {
          "duration": 0.047508,
          "end_time": "2021-03-24T15:49:31.057300",
          "exception": false,
          "start_time": "2021-03-24T15:49:31.009792",
          "status": "completed"
        },
        "tags": [],
        "id": "ptR7NYtPOU6L"
      },
      "source": [
        "## Overview of the Dataset  \n",
        "\n",
        "Train dataset contains 5 years of sales data per 50 different items being sold in 10 different stores. It covers the period between 2013-01-01 and 2017-12-31. \n",
        "\n",
        "We are expected to forecast the daily sales of each item in each store for the time interval of 2018-01-01 and 2018-03-31. I will use LightGBM where I will benefit from early stopping interval in order to avoid overfitting."
      ]
    },
    {
      "cell_type": "markdown",
      "metadata": {
        "papermill": {
          "duration": 0.049264,
          "end_time": "2021-03-24T15:49:31.153274",
          "exception": false,
          "start_time": "2021-03-24T15:49:31.104010",
          "status": "completed"
        },
        "tags": [],
        "id": "IXir_7BqOU6N"
      },
      "source": [
        "<a id=\"section-ts\"></a>\n",
        "# 2.What is Time Series?\n",
        "\n",
        "Time series is a sequence of observations recorded at regular time intervals. It is composed of discrete-time periods that are ordered succesively. When each value of the time points are concatenated, these independent points will form a non-discrete data, reveal the correlations and by using this data it would be possible to have a prediction of what would be coming next. \n",
        "\n",
        "Time Series are mostly used for:\n",
        "\n",
        "* monitor sensor data\n",
        "* track assets (such as cars of a fleet, items in a store)\n",
        "* business forecasting\n",
        "* understand past behaviours (of customers, stocks, etc.)\n",
        "* predict and plan future\n",
        "* evaluate current accomplishment"
      ]
    },
    {
      "cell_type": "markdown",
      "metadata": {
        "papermill": {
          "duration": 0.048611,
          "end_time": "2021-03-24T15:49:31.249485",
          "exception": false,
          "start_time": "2021-03-24T15:49:31.200874",
          "status": "completed"
        },
        "tags": [],
        "id": "WSiYDpoJOU6T"
      },
      "source": [
        "<a id=\"section-pro\"></a>\n",
        "# 3.ML Project"
      ]
    },
    {
      "cell_type": "markdown",
      "metadata": {
        "papermill": {
          "duration": 0.048363,
          "end_time": "2021-03-24T15:49:31.347217",
          "exception": false,
          "start_time": "2021-03-24T15:49:31.298854",
          "status": "completed"
        },
        "tags": [],
        "id": "f03Zl3ZmOU6V"
      },
      "source": [
        "<a id=\"section-one\"></a>\n",
        "## 3.1.Import Library"
      ]
    },
    {
      "cell_type": "code",
      "metadata": {
        "execution": {
          "iopub.execute_input": "2021-03-24T15:49:31.450724Z",
          "iopub.status.busy": "2021-03-24T15:49:31.449961Z",
          "iopub.status.idle": "2021-03-24T15:49:33.878214Z",
          "shell.execute_reply": "2021-03-24T15:49:33.877242Z"
        },
        "papermill": {
          "duration": 2.482038,
          "end_time": "2021-03-24T15:49:33.878524",
          "exception": false,
          "start_time": "2021-03-24T15:49:31.396486",
          "status": "completed"
        },
        "tags": [],
        "colab": {
          "base_uri": "https://localhost:8080/"
        },
        "id": "TV6k1uGdOU6Y",
        "outputId": "c2784dcd-c425-4051-f135-9aff8e951e42"
      },
      "source": [
        "import numpy as np\n",
        "import pandas as pd\n",
        "import lightgbm as lgb\n",
        "import statsmodels.api as sm\n",
        "import matplotlib.pyplot as plt\n",
        "import warnings\n",
        "\n",
        "warnings.filterwarnings('ignore')\n",
        "pd.set_option('display.width', None)"
      ],
      "execution_count": 3,
      "outputs": [
        {
          "output_type": "stream",
          "text": [
            "/usr/local/lib/python3.7/dist-packages/statsmodels/tools/_testing.py:19: FutureWarning: pandas.util.testing is deprecated. Use the functions in the public API at pandas.testing instead.\n",
            "  import pandas.util.testing as tm\n"
          ],
          "name": "stderr"
        }
      ]
    },
    {
      "cell_type": "markdown",
      "metadata": {
        "papermill": {
          "duration": 0.050754,
          "end_time": "2021-03-24T15:49:33.978210",
          "exception": false,
          "start_time": "2021-03-24T15:49:33.927456",
          "status": "completed"
        },
        "tags": [],
        "id": "fBc91T93OU6e"
      },
      "source": [
        "## Load Dataset"
      ]
    },
    {
      "cell_type": "code",
      "metadata": {
        "execution": {
          "iopub.execute_input": "2021-03-24T15:49:34.086616Z",
          "iopub.status.busy": "2021-03-24T15:49:34.085826Z",
          "iopub.status.idle": "2021-03-24T15:49:34.992309Z",
          "shell.execute_reply": "2021-03-24T15:49:34.991719Z"
        },
        "papermill": {
          "duration": 0.962689,
          "end_time": "2021-03-24T15:49:34.992503",
          "exception": false,
          "start_time": "2021-03-24T15:49:34.029814",
          "status": "completed"
        },
        "tags": [],
        "id": "bx_62Z6XOU6j"
      },
      "source": [
        "# Train and test datasets are being concatenated, because I will need the past in order to predict the future based on \n",
        "# some possible patterns that occured in the past.\n",
        "\n",
        "train = pd.read_csv(\"/content/train.csv\", parse_dates=['date'])\n",
        "test = pd.read_csv(\"/content/test.csv\", parse_dates=['date'])\n",
        "df = pd.concat([train, test], sort=False)"
      ],
      "execution_count": 4,
      "outputs": []
    },
    {
      "cell_type": "markdown",
      "metadata": {
        "papermill": {
          "duration": 0.048945,
          "end_time": "2021-03-24T15:49:35.088893",
          "exception": false,
          "start_time": "2021-03-24T15:49:35.039948",
          "status": "completed"
        },
        "tags": [],
        "id": "Q4XlmiolOU6l"
      },
      "source": [
        "<a id=\"section-two\"></a>\n",
        "# 3.2.Exploratory Data Analysis"
      ]
    },
    {
      "cell_type": "code",
      "metadata": {
        "execution": {
          "iopub.execute_input": "2021-03-24T15:49:35.197589Z",
          "iopub.status.busy": "2021-03-24T15:49:35.196568Z",
          "iopub.status.idle": "2021-03-24T15:49:35.199983Z",
          "shell.execute_reply": "2021-03-24T15:49:35.199227Z"
        },
        "papermill": {
          "duration": 0.060098,
          "end_time": "2021-03-24T15:49:35.200139",
          "exception": false,
          "start_time": "2021-03-24T15:49:35.140041",
          "status": "completed"
        },
        "tags": [],
        "id": "cXbIkClDOU6n"
      },
      "source": [
        "def check_df(dataframe):\n",
        "    print(\"##################### Shape #####################\")\n",
        "    print(dataframe.shape)\n",
        "    print(\"##################### Types #####################\")\n",
        "    print(dataframe.dtypes)\n",
        "    print(\"##################### Head #####################\")\n",
        "    print(dataframe.head(3))\n",
        "    print(\"##################### Tail #####################\")\n",
        "    print(dataframe.tail(3))\n",
        "    print(\"##################### NA #####################\")\n",
        "    print(dataframe.isnull().sum())\n",
        "    print(\"##################### Quantiles #####################\")\n",
        "    print(dataframe.quantile([0, 0.05, 0.50, 0.95, 0.99, 1]).T)"
      ],
      "execution_count": 5,
      "outputs": []
    },
    {
      "cell_type": "code",
      "metadata": {
        "execution": {
          "iopub.execute_input": "2021-03-24T15:49:35.303838Z",
          "iopub.status.busy": "2021-03-24T15:49:35.302785Z",
          "iopub.status.idle": "2021-03-24T15:49:35.411279Z",
          "shell.execute_reply": "2021-03-24T15:49:35.410567Z"
        },
        "papermill": {
          "duration": 0.160237,
          "end_time": "2021-03-24T15:49:35.411462",
          "exception": false,
          "start_time": "2021-03-24T15:49:35.251225",
          "status": "completed"
        },
        "tags": [],
        "id": "Hg3UtoxROU6p",
        "outputId": "c6f77eba-bc99-424c-ff73-296b3efb81a7"
      },
      "source": [
        "check_df(train)"
      ],
      "execution_count": null,
      "outputs": [
        {
          "output_type": "stream",
          "text": [
            "##################### Shape #####################\n",
            "(913000, 4)\n",
            "##################### Types #####################\n",
            "date     datetime64[ns]\n",
            "store             int64\n",
            "item              int64\n",
            "sales             int64\n",
            "dtype: object\n",
            "##################### Head #####################\n",
            "        date  store  item  sales\n",
            "0 2013-01-01      1     1     13\n",
            "1 2013-01-02      1     1     11\n",
            "2 2013-01-03      1     1     14\n",
            "##################### Tail #####################\n",
            "             date  store  item  sales\n",
            "912997 2017-12-29     10    50     74\n",
            "912998 2017-12-30     10    50     62\n",
            "912999 2017-12-31     10    50     82\n",
            "##################### NA #####################\n",
            "date     0\n",
            "store    0\n",
            "item     0\n",
            "sales    0\n",
            "dtype: int64\n",
            "##################### Quantiles #####################\n",
            "       0.00  0.05  0.50   0.95   0.99   1.00\n",
            "store   1.0   1.0   5.5   10.0   10.0   10.0\n",
            "item    1.0   3.0  25.5   48.0   50.0   50.0\n",
            "sales   0.0  16.0  47.0  107.0  135.0  231.0\n"
          ],
          "name": "stdout"
        }
      ]
    },
    {
      "cell_type": "markdown",
      "metadata": {
        "papermill": {
          "duration": 0.052306,
          "end_time": "2021-03-24T15:49:35.513089",
          "exception": false,
          "start_time": "2021-03-24T15:49:35.460783",
          "status": "completed"
        },
        "tags": [],
        "id": "EnrghT8kOU6s"
      },
      "source": [
        "Train dataset has 4 variables : store, item, sales (target variable) and date. Date is the variable with which I will derive features to use for my ML model. This is why I parsed the date variable while reading csv.\n",
        "\n",
        "Train dataset covers the period between 2013-01-01 and 2017-12-31, so it's 5 years' time.\n",
        "\n",
        "There are no missing values, I'll check sales for outliers."
      ]
    },
    {
      "cell_type": "code",
      "metadata": {
        "execution": {
          "iopub.execute_input": "2021-03-24T15:49:35.628534Z",
          "iopub.status.busy": "2021-03-24T15:49:35.627529Z",
          "iopub.status.idle": "2021-03-24T15:49:35.645318Z",
          "shell.execute_reply": "2021-03-24T15:49:35.644723Z"
        },
        "papermill": {
          "duration": 0.080655,
          "end_time": "2021-03-24T15:49:35.645491",
          "exception": false,
          "start_time": "2021-03-24T15:49:35.564836",
          "status": "completed"
        },
        "tags": [],
        "colab": {
          "base_uri": "https://localhost:8080/"
        },
        "id": "4opHyU3rOU6v",
        "outputId": "c295525c-303b-4a9b-a485-22a80ec8acbc"
      },
      "source": [
        "check_df(test)"
      ],
      "execution_count": 6,
      "outputs": [
        {
          "output_type": "stream",
          "text": [
            "##################### Shape #####################\n",
            "(45000, 4)\n",
            "##################### Types #####################\n",
            "id                int64\n",
            "date     datetime64[ns]\n",
            "store             int64\n",
            "item              int64\n",
            "dtype: object\n",
            "##################### Head #####################\n",
            "   id       date  store  item\n",
            "0   0 2018-01-01      1     1\n",
            "1   1 2018-01-02      1     1\n",
            "2   2 2018-01-03      1     1\n",
            "##################### Tail #####################\n",
            "          id       date  store  item\n",
            "44997  44997 2018-03-29     10    50\n",
            "44998  44998 2018-03-30     10    50\n",
            "44999  44999 2018-03-31     10    50\n",
            "##################### NA #####################\n",
            "id       0\n",
            "date     0\n",
            "store    0\n",
            "item     0\n",
            "dtype: int64\n",
            "##################### Quantiles #####################\n",
            "       0.00     0.05     0.50      0.95      0.99     1.00\n",
            "id      0.0  2249.95  22499.5  42749.05  44549.01  44999.0\n",
            "store   1.0     1.00      5.5     10.00     10.00     10.0\n",
            "item    1.0     3.00     25.5     48.00     50.00     50.0\n"
          ],
          "name": "stdout"
        }
      ]
    },
    {
      "cell_type": "markdown",
      "metadata": {
        "papermill": {
          "duration": 0.050581,
          "end_time": "2021-03-24T15:49:35.746564",
          "exception": false,
          "start_time": "2021-03-24T15:49:35.695983",
          "status": "completed"
        },
        "tags": [],
        "id": "1qlimQPQOU6y"
      },
      "source": [
        "Test dataset has 4 variables : id (which I'll need when submitting predicted sales values), store, item and date. There is no sales variable in test dataset for this is the variable that I will be predicting.\n",
        "\n",
        "Test dataset covers the period between 2018-01-01 and 2018-03-31, so I will be predicting 3 months of sales per each store and item per each day.\n",
        "\n",
        "There are no missing values.\n"
      ]
    },
    {
      "cell_type": "markdown",
      "metadata": {
        "papermill": {
          "duration": 0.049559,
          "end_time": "2021-03-24T15:49:35.846779",
          "exception": false,
          "start_time": "2021-03-24T15:49:35.797220",
          "status": "completed"
        },
        "tags": [],
        "id": "EW1m-DT6OU60"
      },
      "source": [
        "<a id=\"section-three\"></a>\n",
        "## 3.3.Outlier Check  \n",
        "\n",
        "Time for an outlier check!\n",
        "\n",
        "For outlier detection, I will use IQR method with Q1 as 0.05% and Q3 as 0.95%. I will compute the low limit and up limit with IQR method and check if the sales variable contain values above/below these limits. It will return boolean.\n",
        "\n"
      ]
    },
    {
      "cell_type": "code",
      "metadata": {
        "execution": {
          "iopub.execute_input": "2021-03-24T15:49:35.961267Z",
          "iopub.status.busy": "2021-03-24T15:49:35.960527Z",
          "iopub.status.idle": "2021-03-24T15:49:35.963306Z",
          "shell.execute_reply": "2021-03-24T15:49:35.962649Z"
        },
        "papermill": {
          "duration": 0.066238,
          "end_time": "2021-03-24T15:49:35.963449",
          "exception": false,
          "start_time": "2021-03-24T15:49:35.897211",
          "status": "completed"
        },
        "tags": [],
        "id": "g4FDddinOU63"
      },
      "source": [
        "def outlier_thresholds(dataframe, col_name, q1_perc=0.05, q3_perc=0.95):\n",
        "    \"\"\"\n",
        "    given dataframe, column name, q1_percentage and q3 percentage, function calculates low_limit and up_limit\n",
        "\n",
        "    \"\"\"\n",
        "    quartile1 = dataframe[col_name].quantile(q1_perc)\n",
        "    quartile3 = dataframe[col_name].quantile(q3_perc)\n",
        "    interquantile_range = quartile3 - quartile1\n",
        "    up_limit = quartile3 + 1.5 * interquantile_range\n",
        "    low_limit = quartile1 - 1.5 * interquantile_range\n",
        "    return low_limit, up_limit\n",
        "\n",
        "\n",
        "def check_outlier(dataframe, col_name, q1_perc=0.01, q3_perc=0.99):\n",
        "    outlier_list = []\n",
        "    low_limit, up_limit = outlier_thresholds(dataframe, col_name, q1_perc=0.01, q3_perc=0.99)\n",
        "    if dataframe[(dataframe[col_name] > up_limit) | (dataframe[col_name] < low_limit)].any(axis=None):\n",
        "        return True\n",
        "\n",
        "    else:\n",
        "        return False"
      ],
      "execution_count": 9,
      "outputs": []
    },
    {
      "cell_type": "code",
      "metadata": {
        "execution": {
          "iopub.execute_input": "2021-03-24T15:49:36.069878Z",
          "iopub.status.busy": "2021-03-24T15:49:36.069157Z",
          "iopub.status.idle": "2021-03-24T15:49:36.139290Z",
          "shell.execute_reply": "2021-03-24T15:49:36.138666Z"
        },
        "papermill": {
          "duration": 0.12611,
          "end_time": "2021-03-24T15:49:36.139437",
          "exception": false,
          "start_time": "2021-03-24T15:49:36.013327",
          "status": "completed"
        },
        "tags": [],
        "colab": {
          "base_uri": "https://localhost:8080/"
        },
        "id": "hrXzBrpROU67",
        "outputId": "452f5508-1403-47c4-c215-7f57e4e95299"
      },
      "source": [
        "check_outlier(df, 'sales')"
      ],
      "execution_count": 10,
      "outputs": [
        {
          "output_type": "execute_result",
          "data": {
            "text/plain": [
              "False"
            ]
          },
          "metadata": {
            "tags": []
          },
          "execution_count": 10
        }
      ]
    },
    {
      "cell_type": "markdown",
      "metadata": {
        "papermill": {
          "duration": 0.049717,
          "end_time": "2021-03-24T15:49:36.239977",
          "exception": false,
          "start_time": "2021-03-24T15:49:36.190260",
          "status": "completed"
        },
        "tags": [],
        "id": "SeiyUCMvOU6-"
      },
      "source": [
        "no outliers for sales variable."
      ]
    },
    {
      "cell_type": "code",
      "metadata": {
        "execution": {
          "iopub.execute_input": "2021-03-24T15:49:36.343889Z",
          "iopub.status.busy": "2021-03-24T15:49:36.343160Z",
          "iopub.status.idle": "2021-03-24T15:49:36.358125Z",
          "shell.execute_reply": "2021-03-24T15:49:36.358847Z"
        },
        "papermill": {
          "duration": 0.069624,
          "end_time": "2021-03-24T15:49:36.359065",
          "exception": false,
          "start_time": "2021-03-24T15:49:36.289441",
          "status": "completed"
        },
        "tags": [],
        "colab": {
          "base_uri": "https://localhost:8080/",
          "height": 204
        },
        "id": "HcCaXbLPOU6_",
        "outputId": "16373ba3-b603-4bfa-d3dc-359d3587036b"
      },
      "source": [
        "df.head()"
      ],
      "execution_count": 11,
      "outputs": [
        {
          "output_type": "execute_result",
          "data": {
            "text/html": [
              "<div>\n",
              "<style scoped>\n",
              "    .dataframe tbody tr th:only-of-type {\n",
              "        vertical-align: middle;\n",
              "    }\n",
              "\n",
              "    .dataframe tbody tr th {\n",
              "        vertical-align: top;\n",
              "    }\n",
              "\n",
              "    .dataframe thead th {\n",
              "        text-align: right;\n",
              "    }\n",
              "</style>\n",
              "<table border=\"1\" class=\"dataframe\">\n",
              "  <thead>\n",
              "    <tr style=\"text-align: right;\">\n",
              "      <th></th>\n",
              "      <th>date</th>\n",
              "      <th>store</th>\n",
              "      <th>item</th>\n",
              "      <th>sales</th>\n",
              "      <th>id</th>\n",
              "    </tr>\n",
              "  </thead>\n",
              "  <tbody>\n",
              "    <tr>\n",
              "      <th>0</th>\n",
              "      <td>2013-01-01</td>\n",
              "      <td>1</td>\n",
              "      <td>1</td>\n",
              "      <td>13.0</td>\n",
              "      <td>NaN</td>\n",
              "    </tr>\n",
              "    <tr>\n",
              "      <th>1</th>\n",
              "      <td>2013-01-02</td>\n",
              "      <td>1</td>\n",
              "      <td>1</td>\n",
              "      <td>11.0</td>\n",
              "      <td>NaN</td>\n",
              "    </tr>\n",
              "    <tr>\n",
              "      <th>2</th>\n",
              "      <td>2013-01-03</td>\n",
              "      <td>1</td>\n",
              "      <td>1</td>\n",
              "      <td>14.0</td>\n",
              "      <td>NaN</td>\n",
              "    </tr>\n",
              "    <tr>\n",
              "      <th>3</th>\n",
              "      <td>2013-01-04</td>\n",
              "      <td>1</td>\n",
              "      <td>1</td>\n",
              "      <td>13.0</td>\n",
              "      <td>NaN</td>\n",
              "    </tr>\n",
              "    <tr>\n",
              "      <th>4</th>\n",
              "      <td>2013-01-05</td>\n",
              "      <td>1</td>\n",
              "      <td>1</td>\n",
              "      <td>10.0</td>\n",
              "      <td>NaN</td>\n",
              "    </tr>\n",
              "  </tbody>\n",
              "</table>\n",
              "</div>"
            ],
            "text/plain": [
              "        date  store  item  sales  id\n",
              "0 2013-01-01      1     1   13.0 NaN\n",
              "1 2013-01-02      1     1   11.0 NaN\n",
              "2 2013-01-03      1     1   14.0 NaN\n",
              "3 2013-01-04      1     1   13.0 NaN\n",
              "4 2013-01-05      1     1   10.0 NaN"
            ]
          },
          "metadata": {
            "tags": []
          },
          "execution_count": 11
        }
      ]
    },
    {
      "cell_type": "code",
      "metadata": {
        "colab": {
          "base_uri": "https://localhost:8080/",
          "height": 204
        },
        "id": "IH6gNZZ9zkyN",
        "outputId": "eec04d4a-27fe-49e1-ae3a-bcbe582f3ef4"
      },
      "source": [
        "df.tail()"
      ],
      "execution_count": 12,
      "outputs": [
        {
          "output_type": "execute_result",
          "data": {
            "text/html": [
              "<div>\n",
              "<style scoped>\n",
              "    .dataframe tbody tr th:only-of-type {\n",
              "        vertical-align: middle;\n",
              "    }\n",
              "\n",
              "    .dataframe tbody tr th {\n",
              "        vertical-align: top;\n",
              "    }\n",
              "\n",
              "    .dataframe thead th {\n",
              "        text-align: right;\n",
              "    }\n",
              "</style>\n",
              "<table border=\"1\" class=\"dataframe\">\n",
              "  <thead>\n",
              "    <tr style=\"text-align: right;\">\n",
              "      <th></th>\n",
              "      <th>date</th>\n",
              "      <th>store</th>\n",
              "      <th>item</th>\n",
              "      <th>sales</th>\n",
              "      <th>id</th>\n",
              "    </tr>\n",
              "  </thead>\n",
              "  <tbody>\n",
              "    <tr>\n",
              "      <th>44995</th>\n",
              "      <td>2018-03-27</td>\n",
              "      <td>10</td>\n",
              "      <td>50</td>\n",
              "      <td>NaN</td>\n",
              "      <td>44995.0</td>\n",
              "    </tr>\n",
              "    <tr>\n",
              "      <th>44996</th>\n",
              "      <td>2018-03-28</td>\n",
              "      <td>10</td>\n",
              "      <td>50</td>\n",
              "      <td>NaN</td>\n",
              "      <td>44996.0</td>\n",
              "    </tr>\n",
              "    <tr>\n",
              "      <th>44997</th>\n",
              "      <td>2018-03-29</td>\n",
              "      <td>10</td>\n",
              "      <td>50</td>\n",
              "      <td>NaN</td>\n",
              "      <td>44997.0</td>\n",
              "    </tr>\n",
              "    <tr>\n",
              "      <th>44998</th>\n",
              "      <td>2018-03-30</td>\n",
              "      <td>10</td>\n",
              "      <td>50</td>\n",
              "      <td>NaN</td>\n",
              "      <td>44998.0</td>\n",
              "    </tr>\n",
              "    <tr>\n",
              "      <th>44999</th>\n",
              "      <td>2018-03-31</td>\n",
              "      <td>10</td>\n",
              "      <td>50</td>\n",
              "      <td>NaN</td>\n",
              "      <td>44999.0</td>\n",
              "    </tr>\n",
              "  </tbody>\n",
              "</table>\n",
              "</div>"
            ],
            "text/plain": [
              "            date  store  item  sales       id\n",
              "44995 2018-03-27     10    50    NaN  44995.0\n",
              "44996 2018-03-28     10    50    NaN  44996.0\n",
              "44997 2018-03-29     10    50    NaN  44997.0\n",
              "44998 2018-03-30     10    50    NaN  44998.0\n",
              "44999 2018-03-31     10    50    NaN  44999.0"
            ]
          },
          "metadata": {
            "tags": []
          },
          "execution_count": 12
        }
      ]
    },
    {
      "cell_type": "markdown",
      "metadata": {
        "papermill": {
          "duration": 0.051499,
          "end_time": "2021-03-24T15:49:36.462623",
          "exception": false,
          "start_time": "2021-03-24T15:49:36.411124",
          "status": "completed"
        },
        "tags": [],
        "id": "asoWve87OU7D"
      },
      "source": [
        "id values are only present in test dataset whereas sales variables are only present in train dataset. \n",
        "\n",
        "The reason for concatenating the train and test dataset is to gain insight and find patterns from the previous sales values and finally be able to have a better prediction."
      ]
    },
    {
      "cell_type": "code",
      "metadata": {
        "execution": {
          "iopub.execute_input": "2021-03-24T15:49:36.569618Z",
          "iopub.status.busy": "2021-03-24T15:49:36.568886Z",
          "iopub.status.idle": "2021-03-24T15:49:36.660326Z",
          "shell.execute_reply": "2021-03-24T15:49:36.659700Z"
        },
        "papermill": {
          "duration": 0.147474,
          "end_time": "2021-03-24T15:49:36.660501",
          "exception": false,
          "start_time": "2021-03-24T15:49:36.513027",
          "status": "completed"
        },
        "tags": [],
        "colab": {
          "base_uri": "https://localhost:8080/"
        },
        "id": "AmXSKIdKOU7F",
        "outputId": "438ac214-4416-42cf-d5ad-22d4c49da2d8"
      },
      "source": [
        "print(f\"total number of stores: {df['store'].nunique()}\")\n",
        "print(f\"total number of items: {df['item'].nunique()}\")\n",
        "print(f\"total number of items per each store: {df.groupby(['store'])['item'].nunique()}\")"
      ],
      "execution_count": 15,
      "outputs": [
        {
          "output_type": "stream",
          "text": [
            "total number of stores: 10\n",
            "total number of items: 50\n",
            "total number of items per each store: store\n",
            "1     50\n",
            "2     50\n",
            "3     50\n",
            "4     50\n",
            "5     50\n",
            "6     50\n",
            "7     50\n",
            "8     50\n",
            "9     50\n",
            "10    50\n",
            "Name: item, dtype: int64\n"
          ],
          "name": "stdout"
        }
      ]
    },
    {
      "cell_type": "code",
      "metadata": {
        "execution": {
          "iopub.execute_input": "2021-03-24T15:49:36.772159Z",
          "iopub.status.busy": "2021-03-24T15:49:36.771450Z",
          "iopub.status.idle": "2021-03-24T15:49:36.942094Z",
          "shell.execute_reply": "2021-03-24T15:49:36.942651Z"
        },
        "papermill": {
          "duration": 0.229803,
          "end_time": "2021-03-24T15:49:36.942885",
          "exception": false,
          "start_time": "2021-03-24T15:49:36.713082",
          "status": "completed"
        },
        "tags": [],
        "colab": {
          "base_uri": "https://localhost:8080/",
          "height": 1000
        },
        "id": "cj3GPB9AOU7G",
        "outputId": "e03e3550-a28d-4874-c742-9589ecafd714"
      },
      "source": [
        "df.groupby([\"item\"]).agg({\"sales\": [\"sum\", \"mean\", \"median\", \"std\"]})"
      ],
      "execution_count": 17,
      "outputs": [
        {
          "output_type": "execute_result",
          "data": {
            "text/html": [
              "<div>\n",
              "<style scoped>\n",
              "    .dataframe tbody tr th:only-of-type {\n",
              "        vertical-align: middle;\n",
              "    }\n",
              "\n",
              "    .dataframe tbody tr th {\n",
              "        vertical-align: top;\n",
              "    }\n",
              "\n",
              "    .dataframe thead tr th {\n",
              "        text-align: left;\n",
              "    }\n",
              "\n",
              "    .dataframe thead tr:last-of-type th {\n",
              "        text-align: right;\n",
              "    }\n",
              "</style>\n",
              "<table border=\"1\" class=\"dataframe\">\n",
              "  <thead>\n",
              "    <tr>\n",
              "      <th></th>\n",
              "      <th colspan=\"4\" halign=\"left\">sales</th>\n",
              "    </tr>\n",
              "    <tr>\n",
              "      <th></th>\n",
              "      <th>sum</th>\n",
              "      <th>mean</th>\n",
              "      <th>median</th>\n",
              "      <th>std</th>\n",
              "    </tr>\n",
              "    <tr>\n",
              "      <th>item</th>\n",
              "      <th></th>\n",
              "      <th></th>\n",
              "      <th></th>\n",
              "      <th></th>\n",
              "    </tr>\n",
              "  </thead>\n",
              "  <tbody>\n",
              "    <tr>\n",
              "      <th>1</th>\n",
              "      <td>401384.0</td>\n",
              "      <td>21.981599</td>\n",
              "      <td>21.0</td>\n",
              "      <td>8.468922</td>\n",
              "    </tr>\n",
              "    <tr>\n",
              "      <th>2</th>\n",
              "      <td>1069564.0</td>\n",
              "      <td>58.574151</td>\n",
              "      <td>56.0</td>\n",
              "      <td>20.093015</td>\n",
              "    </tr>\n",
              "    <tr>\n",
              "      <th>3</th>\n",
              "      <td>669087.0</td>\n",
              "      <td>36.642223</td>\n",
              "      <td>35.0</td>\n",
              "      <td>13.179441</td>\n",
              "    </tr>\n",
              "    <tr>\n",
              "      <th>4</th>\n",
              "      <td>401907.0</td>\n",
              "      <td>22.010241</td>\n",
              "      <td>21.0</td>\n",
              "      <td>8.403898</td>\n",
              "    </tr>\n",
              "    <tr>\n",
              "      <th>5</th>\n",
              "      <td>335230.0</td>\n",
              "      <td>18.358708</td>\n",
              "      <td>18.0</td>\n",
              "      <td>7.265167</td>\n",
              "    </tr>\n",
              "    <tr>\n",
              "      <th>6</th>\n",
              "      <td>1068281.0</td>\n",
              "      <td>58.503888</td>\n",
              "      <td>56.0</td>\n",
              "      <td>20.174898</td>\n",
              "    </tr>\n",
              "    <tr>\n",
              "      <th>7</th>\n",
              "      <td>1068777.0</td>\n",
              "      <td>58.531051</td>\n",
              "      <td>56.0</td>\n",
              "      <td>20.146002</td>\n",
              "    </tr>\n",
              "    <tr>\n",
              "      <th>8</th>\n",
              "      <td>1405108.0</td>\n",
              "      <td>76.950055</td>\n",
              "      <td>74.0</td>\n",
              "      <td>26.130697</td>\n",
              "    </tr>\n",
              "    <tr>\n",
              "      <th>9</th>\n",
              "      <td>938379.0</td>\n",
              "      <td>51.389869</td>\n",
              "      <td>49.5</td>\n",
              "      <td>17.790158</td>\n",
              "    </tr>\n",
              "    <tr>\n",
              "      <th>10</th>\n",
              "      <td>1337133.0</td>\n",
              "      <td>73.227437</td>\n",
              "      <td>70.0</td>\n",
              "      <td>24.823725</td>\n",
              "    </tr>\n",
              "    <tr>\n",
              "      <th>11</th>\n",
              "      <td>1271925.0</td>\n",
              "      <td>69.656353</td>\n",
              "      <td>67.0</td>\n",
              "      <td>23.744732</td>\n",
              "    </tr>\n",
              "    <tr>\n",
              "      <th>12</th>\n",
              "      <td>1271534.0</td>\n",
              "      <td>69.634940</td>\n",
              "      <td>67.0</td>\n",
              "      <td>23.738663</td>\n",
              "    </tr>\n",
              "    <tr>\n",
              "      <th>13</th>\n",
              "      <td>1539621.0</td>\n",
              "      <td>84.316594</td>\n",
              "      <td>81.0</td>\n",
              "      <td>28.311031</td>\n",
              "    </tr>\n",
              "    <tr>\n",
              "      <th>14</th>\n",
              "      <td>1071531.0</td>\n",
              "      <td>58.681873</td>\n",
              "      <td>56.0</td>\n",
              "      <td>20.079860</td>\n",
              "    </tr>\n",
              "    <tr>\n",
              "      <th>15</th>\n",
              "      <td>1607442.0</td>\n",
              "      <td>88.030778</td>\n",
              "      <td>85.0</td>\n",
              "      <td>29.522852</td>\n",
              "    </tr>\n",
              "    <tr>\n",
              "      <th>16</th>\n",
              "      <td>468480.0</td>\n",
              "      <td>25.656079</td>\n",
              "      <td>25.0</td>\n",
              "      <td>9.603270</td>\n",
              "    </tr>\n",
              "    <tr>\n",
              "      <th>17</th>\n",
              "      <td>602486.0</td>\n",
              "      <td>32.994852</td>\n",
              "      <td>32.0</td>\n",
              "      <td>11.967610</td>\n",
              "    </tr>\n",
              "    <tr>\n",
              "      <th>18</th>\n",
              "      <td>1538876.0</td>\n",
              "      <td>84.275794</td>\n",
              "      <td>81.0</td>\n",
              "      <td>28.430621</td>\n",
              "    </tr>\n",
              "    <tr>\n",
              "      <th>19</th>\n",
              "      <td>736892.0</td>\n",
              "      <td>40.355531</td>\n",
              "      <td>39.0</td>\n",
              "      <td>14.332645</td>\n",
              "    </tr>\n",
              "    <tr>\n",
              "      <th>20</th>\n",
              "      <td>867641.0</td>\n",
              "      <td>47.515936</td>\n",
              "      <td>46.0</td>\n",
              "      <td>16.490487</td>\n",
              "    </tr>\n",
              "    <tr>\n",
              "      <th>21</th>\n",
              "      <td>736190.0</td>\n",
              "      <td>40.317087</td>\n",
              "      <td>39.0</td>\n",
              "      <td>14.338006</td>\n",
              "    </tr>\n",
              "    <tr>\n",
              "      <th>22</th>\n",
              "      <td>1469971.0</td>\n",
              "      <td>80.502245</td>\n",
              "      <td>78.0</td>\n",
              "      <td>27.118163</td>\n",
              "    </tr>\n",
              "    <tr>\n",
              "      <th>23</th>\n",
              "      <td>534979.0</td>\n",
              "      <td>29.297864</td>\n",
              "      <td>28.0</td>\n",
              "      <td>10.819549</td>\n",
              "    </tr>\n",
              "    <tr>\n",
              "      <th>24</th>\n",
              "      <td>1205975.0</td>\n",
              "      <td>66.044633</td>\n",
              "      <td>64.0</td>\n",
              "      <td>22.531555</td>\n",
              "    </tr>\n",
              "    <tr>\n",
              "      <th>25</th>\n",
              "      <td>1473334.0</td>\n",
              "      <td>80.686418</td>\n",
              "      <td>78.0</td>\n",
              "      <td>27.238817</td>\n",
              "    </tr>\n",
              "    <tr>\n",
              "      <th>26</th>\n",
              "      <td>869981.0</td>\n",
              "      <td>47.644085</td>\n",
              "      <td>46.0</td>\n",
              "      <td>16.723912</td>\n",
              "    </tr>\n",
              "    <tr>\n",
              "      <th>27</th>\n",
              "      <td>402628.0</td>\n",
              "      <td>22.049726</td>\n",
              "      <td>21.0</td>\n",
              "      <td>8.461641</td>\n",
              "    </tr>\n",
              "    <tr>\n",
              "      <th>28</th>\n",
              "      <td>1604713.0</td>\n",
              "      <td>87.881325</td>\n",
              "      <td>85.0</td>\n",
              "      <td>29.501781</td>\n",
              "    </tr>\n",
              "    <tr>\n",
              "      <th>29</th>\n",
              "      <td>1271240.0</td>\n",
              "      <td>69.618839</td>\n",
              "      <td>67.0</td>\n",
              "      <td>23.635631</td>\n",
              "    </tr>\n",
              "    <tr>\n",
              "      <th>30</th>\n",
              "      <td>736554.0</td>\n",
              "      <td>40.337021</td>\n",
              "      <td>39.0</td>\n",
              "      <td>14.363331</td>\n",
              "    </tr>\n",
              "    <tr>\n",
              "      <th>31</th>\n",
              "      <td>1070845.0</td>\n",
              "      <td>58.644304</td>\n",
              "      <td>57.0</td>\n",
              "      <td>20.104705</td>\n",
              "    </tr>\n",
              "    <tr>\n",
              "      <th>32</th>\n",
              "      <td>803107.0</td>\n",
              "      <td>43.981763</td>\n",
              "      <td>42.0</td>\n",
              "      <td>15.574556</td>\n",
              "    </tr>\n",
              "    <tr>\n",
              "      <th>33</th>\n",
              "      <td>1270183.0</td>\n",
              "      <td>69.560953</td>\n",
              "      <td>67.0</td>\n",
              "      <td>23.718343</td>\n",
              "    </tr>\n",
              "    <tr>\n",
              "      <th>34</th>\n",
              "      <td>469935.0</td>\n",
              "      <td>25.735761</td>\n",
              "      <td>25.0</td>\n",
              "      <td>9.617910</td>\n",
              "    </tr>\n",
              "    <tr>\n",
              "      <th>35</th>\n",
              "      <td>1201541.0</td>\n",
              "      <td>65.801807</td>\n",
              "      <td>63.0</td>\n",
              "      <td>22.461990</td>\n",
              "    </tr>\n",
              "    <tr>\n",
              "      <th>36</th>\n",
              "      <td>1406548.0</td>\n",
              "      <td>77.028916</td>\n",
              "      <td>74.0</td>\n",
              "      <td>26.067440</td>\n",
              "    </tr>\n",
              "    <tr>\n",
              "      <th>37</th>\n",
              "      <td>534258.0</td>\n",
              "      <td>29.258379</td>\n",
              "      <td>28.0</td>\n",
              "      <td>10.771547</td>\n",
              "    </tr>\n",
              "    <tr>\n",
              "      <th>38</th>\n",
              "      <td>1470330.0</td>\n",
              "      <td>80.521906</td>\n",
              "      <td>77.0</td>\n",
              "      <td>27.141799</td>\n",
              "    </tr>\n",
              "    <tr>\n",
              "      <th>39</th>\n",
              "      <td>801311.0</td>\n",
              "      <td>43.883406</td>\n",
              "      <td>42.0</td>\n",
              "      <td>15.511550</td>\n",
              "    </tr>\n",
              "    <tr>\n",
              "      <th>40</th>\n",
              "      <td>534094.0</td>\n",
              "      <td>29.249398</td>\n",
              "      <td>28.0</td>\n",
              "      <td>10.822959</td>\n",
              "    </tr>\n",
              "    <tr>\n",
              "      <th>41</th>\n",
              "      <td>401759.0</td>\n",
              "      <td>22.002136</td>\n",
              "      <td>21.0</td>\n",
              "      <td>8.402470</td>\n",
              "    </tr>\n",
              "    <tr>\n",
              "      <th>42</th>\n",
              "      <td>669925.0</td>\n",
              "      <td>36.688116</td>\n",
              "      <td>35.0</td>\n",
              "      <td>13.215112</td>\n",
              "    </tr>\n",
              "    <tr>\n",
              "      <th>43</th>\n",
              "      <td>936635.0</td>\n",
              "      <td>51.294359</td>\n",
              "      <td>49.0</td>\n",
              "      <td>17.801008</td>\n",
              "    </tr>\n",
              "    <tr>\n",
              "      <th>44</th>\n",
              "      <td>536811.0</td>\n",
              "      <td>29.398193</td>\n",
              "      <td>28.0</td>\n",
              "      <td>10.797738</td>\n",
              "    </tr>\n",
              "    <tr>\n",
              "      <th>45</th>\n",
              "      <td>1471467.0</td>\n",
              "      <td>80.584173</td>\n",
              "      <td>78.0</td>\n",
              "      <td>27.318402</td>\n",
              "    </tr>\n",
              "    <tr>\n",
              "      <th>46</th>\n",
              "      <td>1070764.0</td>\n",
              "      <td>58.639869</td>\n",
              "      <td>56.0</td>\n",
              "      <td>20.220879</td>\n",
              "    </tr>\n",
              "    <tr>\n",
              "      <th>47</th>\n",
              "      <td>401781.0</td>\n",
              "      <td>22.003341</td>\n",
              "      <td>21.0</td>\n",
              "      <td>8.420102</td>\n",
              "    </tr>\n",
              "    <tr>\n",
              "      <th>48</th>\n",
              "      <td>937703.0</td>\n",
              "      <td>51.352848</td>\n",
              "      <td>49.0</td>\n",
              "      <td>17.881917</td>\n",
              "    </tr>\n",
              "    <tr>\n",
              "      <th>49</th>\n",
              "      <td>535663.0</td>\n",
              "      <td>29.335323</td>\n",
              "      <td>28.0</td>\n",
              "      <td>10.874788</td>\n",
              "    </tr>\n",
              "    <tr>\n",
              "      <th>50</th>\n",
              "      <td>1203009.0</td>\n",
              "      <td>65.882202</td>\n",
              "      <td>63.0</td>\n",
              "      <td>22.416031</td>\n",
              "    </tr>\n",
              "  </tbody>\n",
              "</table>\n",
              "</div>"
            ],
            "text/plain": [
              "          sales                             \n",
              "            sum       mean median        std\n",
              "item                                        \n",
              "1      401384.0  21.981599   21.0   8.468922\n",
              "2     1069564.0  58.574151   56.0  20.093015\n",
              "3      669087.0  36.642223   35.0  13.179441\n",
              "4      401907.0  22.010241   21.0   8.403898\n",
              "5      335230.0  18.358708   18.0   7.265167\n",
              "6     1068281.0  58.503888   56.0  20.174898\n",
              "7     1068777.0  58.531051   56.0  20.146002\n",
              "8     1405108.0  76.950055   74.0  26.130697\n",
              "9      938379.0  51.389869   49.5  17.790158\n",
              "10    1337133.0  73.227437   70.0  24.823725\n",
              "11    1271925.0  69.656353   67.0  23.744732\n",
              "12    1271534.0  69.634940   67.0  23.738663\n",
              "13    1539621.0  84.316594   81.0  28.311031\n",
              "14    1071531.0  58.681873   56.0  20.079860\n",
              "15    1607442.0  88.030778   85.0  29.522852\n",
              "16     468480.0  25.656079   25.0   9.603270\n",
              "17     602486.0  32.994852   32.0  11.967610\n",
              "18    1538876.0  84.275794   81.0  28.430621\n",
              "19     736892.0  40.355531   39.0  14.332645\n",
              "20     867641.0  47.515936   46.0  16.490487\n",
              "21     736190.0  40.317087   39.0  14.338006\n",
              "22    1469971.0  80.502245   78.0  27.118163\n",
              "23     534979.0  29.297864   28.0  10.819549\n",
              "24    1205975.0  66.044633   64.0  22.531555\n",
              "25    1473334.0  80.686418   78.0  27.238817\n",
              "26     869981.0  47.644085   46.0  16.723912\n",
              "27     402628.0  22.049726   21.0   8.461641\n",
              "28    1604713.0  87.881325   85.0  29.501781\n",
              "29    1271240.0  69.618839   67.0  23.635631\n",
              "30     736554.0  40.337021   39.0  14.363331\n",
              "31    1070845.0  58.644304   57.0  20.104705\n",
              "32     803107.0  43.981763   42.0  15.574556\n",
              "33    1270183.0  69.560953   67.0  23.718343\n",
              "34     469935.0  25.735761   25.0   9.617910\n",
              "35    1201541.0  65.801807   63.0  22.461990\n",
              "36    1406548.0  77.028916   74.0  26.067440\n",
              "37     534258.0  29.258379   28.0  10.771547\n",
              "38    1470330.0  80.521906   77.0  27.141799\n",
              "39     801311.0  43.883406   42.0  15.511550\n",
              "40     534094.0  29.249398   28.0  10.822959\n",
              "41     401759.0  22.002136   21.0   8.402470\n",
              "42     669925.0  36.688116   35.0  13.215112\n",
              "43     936635.0  51.294359   49.0  17.801008\n",
              "44     536811.0  29.398193   28.0  10.797738\n",
              "45    1471467.0  80.584173   78.0  27.318402\n",
              "46    1070764.0  58.639869   56.0  20.220879\n",
              "47     401781.0  22.003341   21.0   8.420102\n",
              "48     937703.0  51.352848   49.0  17.881917\n",
              "49     535663.0  29.335323   28.0  10.874788\n",
              "50    1203009.0  65.882202   63.0  22.416031"
            ]
          },
          "metadata": {
            "tags": []
          },
          "execution_count": 17
        }
      ]
    },
    {
      "cell_type": "code",
      "metadata": {
        "execution": {
          "iopub.execute_input": "2021-03-24T15:49:37.487449Z",
          "iopub.status.busy": "2021-03-24T15:49:37.486352Z",
          "iopub.status.idle": "2021-03-24T15:49:38.609887Z",
          "shell.execute_reply": "2021-03-24T15:49:38.609255Z"
        },
        "papermill": {
          "duration": 1.181568,
          "end_time": "2021-03-24T15:49:38.610040",
          "exception": false,
          "start_time": "2021-03-24T15:49:37.428472",
          "status": "completed"
        },
        "tags": [],
        "colab": {
          "base_uri": "https://localhost:8080/",
          "height": 430
        },
        "id": "ZizWaCaBOU7N",
        "outputId": "c722c385-936c-4614-b9df-37658e604c59"
      },
      "source": [
        "train_plot = train.set_index('date')\n",
        "y = train_plot['sales'].resample('MS').mean() \n",
        "\n",
        "result = sm.tsa.seasonal_decompose(y, model='additive') # Usage of Statistical Models\n",
        "fig = plt.figure()  \n",
        "fig = result.plot()  \n",
        "fig.set_size_inches(8, 6)"
      ],
      "execution_count": 25,
      "outputs": [
        {
          "output_type": "display_data",
          "data": {
            "text/plain": [
              "<Figure size 432x288 with 0 Axes>"
            ]
          },
          "metadata": {
            "tags": []
          }
        },
        {
          "output_type": "display_data",
          "data": {
            "image/png": "[encoded data removed]",
            "text/plain": [
              "<Figure size 576x432 with 4 Axes>"
            ]
          },
          "metadata": {
            "tags": [],
            "needs_background": "light"
          }
        }
      ]
    },
    {
      "cell_type": "markdown",
      "metadata": {
        "papermill": {
          "duration": 0.054368,
          "end_time": "2021-03-24T15:49:38.718072",
          "exception": false,
          "start_time": "2021-03-24T15:49:38.663704",
          "status": "completed"
        },
        "tags": [],
        "id": "BXJMhmQxOU7p"
      },
      "source": [
        "based on the:\n",
        "\n",
        "* 1st graph: the dataset is not stationary, it would be easier to have a future prediction simply by taking mean values if it was stationary,\n",
        "* 2nd graph: there is an increasing trend over time,\n",
        "* 3rd graph: a repeating pattern is observed, so there is seasonality- moving upwards on July.\n",
        "* 4th graph: residuals are decomposing randomly around 0, so the series is additive."
      ]
    },
    {
      "cell_type": "markdown",
      "metadata": {
        "papermill": {
          "duration": 0.054343,
          "end_time": "2021-03-24T15:49:38.826256",
          "exception": false,
          "start_time": "2021-03-24T15:49:38.771913",
          "status": "completed"
        },
        "tags": [],
        "id": "7G0YGQRWOU7q"
      },
      "source": [
        "<a id=\"section-five\"></a>\n",
        "# 3.5.Feature Engineering\n",
        "\n",
        "In order to search for seasonalities, date variable will be used to derive new features and different time periods will be created."
      ]
    },
    {
      "cell_type": "code",
      "metadata": {
        "execution": {
          "iopub.execute_input": "2021-03-24T15:49:38.946377Z",
          "iopub.status.busy": "2021-03-24T15:49:38.945483Z",
          "iopub.status.idle": "2021-03-24T15:49:38.948779Z",
          "shell.execute_reply": "2021-03-24T15:49:38.948225Z"
        },
        "papermill": {
          "duration": 0.06666,
          "end_time": "2021-03-24T15:49:38.948932",
          "exception": false,
          "start_time": "2021-03-24T15:49:38.882272",
          "status": "completed"
        },
        "tags": [],
        "id": "HPNvGhN9OU79"
      },
      "source": [
        "def create_date_features(df):\n",
        "    df['month'] = df.date.dt.month\n",
        "    df['day_of_month'] = df.date.dt.day\n",
        "    df['day_of_year'] = df.date.dt.dayofyear\n",
        "    df['week_of_year'] = df.date.dt.weekofyear\n",
        "    # 1.1.2013 is Tuesday, so our starting point is the 2nd day of week\n",
        "    df['day_of_week'] = df.date.dt.dayofweek + 1\n",
        "    df['year'] = df.date.dt.year\n",
        "    df[\"is_wknd\"] = df.date.dt.weekday // 4\n",
        "    df['is_month_start'] = df.date.dt.is_month_start.astype(int)\n",
        "    df['is_month_end'] = df.date.dt.is_month_end.astype(int)\n",
        "    return df"
      ],
      "execution_count": 26,
      "outputs": []
    },
    {
      "cell_type": "code",
      "metadata": {
        "execution": {
          "iopub.execute_input": "2021-03-24T15:49:39.063666Z",
          "iopub.status.busy": "2021-03-24T15:49:39.062838Z",
          "iopub.status.idle": "2021-03-24T15:49:39.970990Z",
          "shell.execute_reply": "2021-03-24T15:49:39.970352Z"
        },
        "papermill": {
          "duration": 0.967659,
          "end_time": "2021-03-24T15:49:39.971142",
          "exception": false,
          "start_time": "2021-03-24T15:49:39.003483",
          "status": "completed"
        },
        "tags": [],
        "colab": {
          "base_uri": "https://localhost:8080/",
          "height": 204
        },
        "id": "tzM9xE6VOU7-",
        "outputId": "e348b2bf-10d4-4ab5-ea6a-670c2d37966c"
      },
      "source": [
        "df = create_date_features(df)\n",
        "df.head()"
      ],
      "execution_count": 27,
      "outputs": [
        {
          "output_type": "execute_result",
          "data": {
            "text/html": [
              "<div>\n",
              "<style scoped>\n",
              "    .dataframe tbody tr th:only-of-type {\n",
              "        vertical-align: middle;\n",
              "    }\n",
              "\n",
              "    .dataframe tbody tr th {\n",
              "        vertical-align: top;\n",
              "    }\n",
              "\n",
              "    .dataframe thead th {\n",
              "        text-align: right;\n",
              "    }\n",
              "</style>\n",
              "<table border=\"1\" class=\"dataframe\">\n",
              "  <thead>\n",
              "    <tr style=\"text-align: right;\">\n",
              "      <th></th>\n",
              "      <th>date</th>\n",
              "      <th>store</th>\n",
              "      <th>item</th>\n",
              "      <th>sales</th>\n",
              "      <th>id</th>\n",
              "      <th>month</th>\n",
              "      <th>day_of_month</th>\n",
              "      <th>day_of_year</th>\n",
              "      <th>week_of_year</th>\n",
              "      <th>day_of_week</th>\n",
              "      <th>year</th>\n",
              "      <th>is_wknd</th>\n",
              "      <th>is_month_start</th>\n",
              "      <th>is_month_end</th>\n",
              "    </tr>\n",
              "  </thead>\n",
              "  <tbody>\n",
              "    <tr>\n",
              "      <th>0</th>\n",
              "      <td>2013-01-01</td>\n",
              "      <td>1</td>\n",
              "      <td>1</td>\n",
              "      <td>13.0</td>\n",
              "      <td>NaN</td>\n",
              "      <td>1</td>\n",
              "      <td>1</td>\n",
              "      <td>1</td>\n",
              "      <td>1</td>\n",
              "      <td>2</td>\n",
              "      <td>2013</td>\n",
              "      <td>0</td>\n",
              "      <td>1</td>\n",
              "      <td>0</td>\n",
              "    </tr>\n",
              "    <tr>\n",
              "      <th>1</th>\n",
              "      <td>2013-01-02</td>\n",
              "      <td>1</td>\n",
              "      <td>1</td>\n",
              "      <td>11.0</td>\n",
              "      <td>NaN</td>\n",
              "      <td>1</td>\n",
              "      <td>2</td>\n",
              "      <td>2</td>\n",
              "      <td>1</td>\n",
              "      <td>3</td>\n",
              "      <td>2013</td>\n",
              "      <td>0</td>\n",
              "      <td>0</td>\n",
              "      <td>0</td>\n",
              "    </tr>\n",
              "    <tr>\n",
              "      <th>2</th>\n",
              "      <td>2013-01-03</td>\n",
              "      <td>1</td>\n",
              "      <td>1</td>\n",
              "      <td>14.0</td>\n",
              "      <td>NaN</td>\n",
              "      <td>1</td>\n",
              "      <td>3</td>\n",
              "      <td>3</td>\n",
              "      <td>1</td>\n",
              "      <td>4</td>\n",
              "      <td>2013</td>\n",
              "      <td>0</td>\n",
              "      <td>0</td>\n",
              "      <td>0</td>\n",
              "    </tr>\n",
              "    <tr>\n",
              "      <th>3</th>\n",
              "      <td>2013-01-04</td>\n",
              "      <td>1</td>\n",
              "      <td>1</td>\n",
              "      <td>13.0</td>\n",
              "      <td>NaN</td>\n",
              "      <td>1</td>\n",
              "      <td>4</td>\n",
              "      <td>4</td>\n",
              "      <td>1</td>\n",
              "      <td>5</td>\n",
              "      <td>2013</td>\n",
              "      <td>1</td>\n",
              "      <td>0</td>\n",
              "      <td>0</td>\n",
              "    </tr>\n",
              "    <tr>\n",
              "      <th>4</th>\n",
              "      <td>2013-01-05</td>\n",
              "      <td>1</td>\n",
              "      <td>1</td>\n",
              "      <td>10.0</td>\n",
              "      <td>NaN</td>\n",
              "      <td>1</td>\n",
              "      <td>5</td>\n",
              "      <td>5</td>\n",
              "      <td>1</td>\n",
              "      <td>6</td>\n",
              "      <td>2013</td>\n",
              "      <td>1</td>\n",
              "      <td>0</td>\n",
              "      <td>0</td>\n",
              "    </tr>\n",
              "  </tbody>\n",
              "</table>\n",
              "</div>"
            ],
            "text/plain": [
              "        date  store  item  sales  ...  year  is_wknd  is_month_start  is_month_end\n",
              "0 2013-01-01      1     1   13.0  ...  2013        0               1             0\n",
              "1 2013-01-02      1     1   11.0  ...  2013        0               0             0\n",
              "2 2013-01-03      1     1   14.0  ...  2013        0               0             0\n",
              "3 2013-01-04      1     1   13.0  ...  2013        1               0             0\n",
              "4 2013-01-05      1     1   10.0  ...  2013        1               0             0\n",
              "\n",
              "[5 rows x 14 columns]"
            ]
          },
          "metadata": {
            "tags": []
          },
          "execution_count": 27
        }
      ]
    },
    {
      "cell_type": "markdown",
      "metadata": {
        "papermill": {
          "duration": 0.054432,
          "end_time": "2021-03-24T15:49:40.080023",
          "exception": false,
          "start_time": "2021-03-24T15:49:40.025591",
          "status": "completed"
        },
        "tags": [],
        "id": "zY9IS6r6OU7_"
      },
      "source": [
        "<a id=\"section-six\"></a>\n",
        "## 3.5.1.Random Noise\n",
        "\n",
        "For small datasets like this one, in order to avoid overfitting, random noise can be added to the values. I will add Gaussian random noise which is normally distributed with a standard deviation of 1 and mean of 0."
      ]
    },
    {
      "cell_type": "code",
      "metadata": {
        "execution": {
          "iopub.execute_input": "2021-03-24T15:49:40.202427Z",
          "iopub.status.busy": "2021-03-24T15:49:40.201613Z",
          "iopub.status.idle": "2021-03-24T15:49:40.205170Z",
          "shell.execute_reply": "2021-03-24T15:49:40.204588Z"
        },
        "papermill": {
          "duration": 0.064683,
          "end_time": "2021-03-24T15:49:40.205328",
          "exception": false,
          "start_time": "2021-03-24T15:49:40.140645",
          "status": "completed"
        },
        "tags": [],
        "id": "_B7gzjETOU8A"
      },
      "source": [
        "def random_noise(dataframe):\n",
        "  return np.random.normal(size=(len(dataframe),))\n",
        "  #In Order to Avoid Overfitting of the model"
      ],
      "execution_count": 28,
      "outputs": []
    },
    {
      "cell_type": "markdown",
      "metadata": {
        "papermill": {
          "duration": 0.055092,
          "end_time": "2021-03-24T15:49:40.318796",
          "exception": false,
          "start_time": "2021-03-24T15:49:40.263704",
          "status": "completed"
        },
        "tags": [],
        "id": "t9O2TvcdOU8B"
      },
      "source": [
        "<a id=\"section-seven\"></a>\n",
        "## 3.5.2.Lag/Shifted Features \n",
        "\n",
        "Time Series theory states that, the value in time: t highly depends on the value in time: t-1. That is why I will be shifting all the sales values by 1 and adding noise."
      ]
    },
    {
      "cell_type": "code",
      "metadata": {
        "execution": {
          "iopub.execute_input": "2021-03-24T15:49:40.439926Z",
          "iopub.status.busy": "2021-03-24T15:49:40.439244Z",
          "iopub.status.idle": "2021-03-24T15:49:40.801899Z",
          "shell.execute_reply": "2021-03-24T15:49:40.801199Z"
        },
        "papermill": {
          "duration": 0.423862,
          "end_time": "2021-03-24T15:49:40.802054",
          "exception": false,
          "start_time": "2021-03-24T15:49:40.378192",
          "status": "completed"
        },
        "tags": [],
        "id": "neI8usExOU8C"
      },
      "source": [
        "# sort the values per store, item and date so that values would be shifted equally\n",
        "df.sort_values(by=['store', 'item', 'date'], axis=0, inplace=True)"
      ],
      "execution_count": 29,
      "outputs": []
    },
    {
      "cell_type": "code",
      "metadata": {
        "execution": {
          "iopub.execute_input": "2021-03-24T15:49:40.929170Z",
          "iopub.status.busy": "2021-03-24T15:49:40.928223Z",
          "iopub.status.idle": "2021-03-24T15:49:40.931925Z",
          "shell.execute_reply": "2021-03-24T15:49:40.931149Z"
        },
        "papermill": {
          "duration": 0.073175,
          "end_time": "2021-03-24T15:49:40.932081",
          "exception": false,
          "start_time": "2021-03-24T15:49:40.858906",
          "status": "completed"
        },
        "tags": [],
        "id": "IohkxsqqOU8D"
      },
      "source": [
        "# the feature name will be created dynamically with regards to the lag value for a given list of lags\n",
        "def lag_features(dataframe, lags):\n",
        "    dataframe = dataframe.copy()\n",
        "    for lag in lags:\n",
        "        dataframe['sales_lag_' + str(lag)] = dataframe.groupby([\"store\", \"item\"])['sales'].transform(\n",
        "            lambda x: x.shift(lag)) + random_noise(dataframe)\n",
        "    return dataframe"
      ],
      "execution_count": 31,
      "outputs": []
    },
    {
      "cell_type": "code",
      "metadata": {
        "execution": {
          "iopub.execute_input": "2021-03-24T15:49:41.049966Z",
          "iopub.status.busy": "2021-03-24T15:49:41.048777Z",
          "iopub.status.idle": "2021-03-24T15:49:43.900767Z",
          "shell.execute_reply": "2021-03-24T15:49:43.899836Z"
        },
        "papermill": {
          "duration": 2.913425,
          "end_time": "2021-03-24T15:49:43.900937",
          "exception": false,
          "start_time": "2021-03-24T15:49:40.987512",
          "status": "completed"
        },
        "tags": [],
        "id": "rI68bbsmOU8D"
      },
      "source": [
        "df = lag_features(df, [91, 98, 105, 112, 119, 126, 182, 364, 546, 728])"
      ],
      "execution_count": 32,
      "outputs": []
    },
    {
      "cell_type": "markdown",
      "metadata": {
        "papermill": {
          "duration": 0.061036,
          "end_time": "2021-03-24T15:49:44.021033",
          "exception": false,
          "start_time": "2021-03-24T15:49:43.959997",
          "status": "completed"
        },
        "tags": [],
        "id": "DMkrGRTHOU8E"
      },
      "source": [
        "<a id=\"section-eight\"></a>\n",
        "## 3.5.3.Rolling Mean / Moving Average  \n",
        "\n",
        "In order to find out possible seasonalities, I will be creating moving averagesfor specified time intervals. This function takes the number of time given as window parameter and takes the average of the values, but one of the values is the value on this specific observation. In order to eliminate today's affect on moving average values, I will take 1 shift and use this function"
      ]
    },
    {
      "cell_type": "code",
      "metadata": {
        "execution": {
          "iopub.execute_input": "2021-03-24T15:49:44.142826Z",
          "iopub.status.busy": "2021-03-24T15:49:44.141749Z",
          "iopub.status.idle": "2021-03-24T15:49:44.145214Z",
          "shell.execute_reply": "2021-03-24T15:49:44.144622Z"
        },
        "papermill": {
          "duration": 0.067189,
          "end_time": "2021-03-24T15:49:44.145363",
          "exception": false,
          "start_time": "2021-03-24T15:49:44.078174",
          "status": "completed"
        },
        "tags": [],
        "id": "d4rmTsYCOU8F"
      },
      "source": [
        "def roll_mean_features(dataframe, windows):\n",
        "    dataframe = dataframe.copy()\n",
        "    for window in windows:\n",
        "        dataframe['sales_roll_mean_' + str(window)] = dataframe.groupby([\"store\", \"item\"])['sales']. \\\n",
        "                                                          transform(\n",
        "            lambda x: x.shift(1).rolling(window=window, min_periods=10, win_type=\"triang\").mean()) + random_noise(dataframe)\n",
        "    return dataframe"
      ],
      "execution_count": 36,
      "outputs": []
    },
    {
      "cell_type": "code",
      "metadata": {
        "execution": {
          "iopub.execute_input": "2021-03-24T15:49:44.266754Z",
          "iopub.status.busy": "2021-03-24T15:49:44.265537Z",
          "iopub.status.idle": "2021-03-24T15:49:49.183518Z",
          "shell.execute_reply": "2021-03-24T15:49:49.184084Z"
        },
        "papermill": {
          "duration": 4.98132,
          "end_time": "2021-03-24T15:49:49.184275",
          "exception": false,
          "start_time": "2021-03-24T15:49:44.202955",
          "status": "completed"
        },
        "tags": [],
        "colab": {
          "base_uri": "https://localhost:8080/",
          "height": 309
        },
        "id": "yGyZQ4vGOU8G",
        "outputId": "7d52d20e-06b6-479e-b9b5-9b84872c9e62"
      },
      "source": [
        "df = roll_mean_features(df, [365, 546, 730])\n",
        "df.head()"
      ],
      "execution_count": 37,
      "outputs": [
        {
          "output_type": "execute_result",
          "data": {
            "text/html": [
              "<div>\n",
              "<style scoped>\n",
              "    .dataframe tbody tr th:only-of-type {\n",
              "        vertical-align: middle;\n",
              "    }\n",
              "\n",
              "    .dataframe tbody tr th {\n",
              "        vertical-align: top;\n",
              "    }\n",
              "\n",
              "    .dataframe thead th {\n",
              "        text-align: right;\n",
              "    }\n",
              "</style>\n",
              "<table border=\"1\" class=\"dataframe\">\n",
              "  <thead>\n",
              "    <tr style=\"text-align: right;\">\n",
              "      <th></th>\n",
              "      <th>date</th>\n",
              "      <th>store</th>\n",
              "      <th>item</th>\n",
              "      <th>sales</th>\n",
              "      <th>id</th>\n",
              "      <th>month</th>\n",
              "      <th>day_of_month</th>\n",
              "      <th>day_of_year</th>\n",
              "      <th>week_of_year</th>\n",
              "      <th>day_of_week</th>\n",
              "      <th>year</th>\n",
              "      <th>is_wknd</th>\n",
              "      <th>is_month_start</th>\n",
              "      <th>is_month_end</th>\n",
              "      <th>sales_lag_91</th>\n",
              "      <th>sales_lag_98</th>\n",
              "      <th>sales_lag_105</th>\n",
              "      <th>sales_lag_112</th>\n",
              "      <th>sales_lag_119</th>\n",
              "      <th>sales_lag_126</th>\n",
              "      <th>sales_lag_182</th>\n",
              "      <th>sales_lag_364</th>\n",
              "      <th>sales_lag_546</th>\n",
              "      <th>sales_lag_728</th>\n",
              "      <th>sales_roll_mean_365</th>\n",
              "      <th>sales_roll_mean_546</th>\n",
              "      <th>sales_roll_mean_730</th>\n",
              "    </tr>\n",
              "  </thead>\n",
              "  <tbody>\n",
              "    <tr>\n",
              "      <th>0</th>\n",
              "      <td>2013-01-01</td>\n",
              "      <td>1</td>\n",
              "      <td>1</td>\n",
              "      <td>13.0</td>\n",
              "      <td>NaN</td>\n",
              "      <td>1</td>\n",
              "      <td>1</td>\n",
              "      <td>1</td>\n",
              "      <td>1</td>\n",
              "      <td>2</td>\n",
              "      <td>2013</td>\n",
              "      <td>0</td>\n",
              "      <td>1</td>\n",
              "      <td>0</td>\n",
              "      <td>NaN</td>\n",
              "      <td>NaN</td>\n",
              "      <td>NaN</td>\n",
              "      <td>NaN</td>\n",
              "      <td>NaN</td>\n",
              "      <td>NaN</td>\n",
              "      <td>NaN</td>\n",
              "      <td>NaN</td>\n",
              "      <td>NaN</td>\n",
              "      <td>NaN</td>\n",
              "      <td>NaN</td>\n",
              "      <td>NaN</td>\n",
              "      <td>NaN</td>\n",
              "    </tr>\n",
              "    <tr>\n",
              "      <th>1</th>\n",
              "      <td>2013-01-02</td>\n",
              "      <td>1</td>\n",
              "      <td>1</td>\n",
              "      <td>11.0</td>\n",
              "      <td>NaN</td>\n",
              "      <td>1</td>\n",
              "      <td>2</td>\n",
              "      <td>2</td>\n",
              "      <td>1</td>\n",
              "      <td>3</td>\n",
              "      <td>2013</td>\n",
              "      <td>0</td>\n",
              "      <td>0</td>\n",
              "      <td>0</td>\n",
              "      <td>NaN</td>\n",
              "      <td>NaN</td>\n",
              "      <td>NaN</td>\n",
              "      <td>NaN</td>\n",
              "      <td>NaN</td>\n",
              "      <td>NaN</td>\n",
              "      <td>NaN</td>\n",
              "      <td>NaN</td>\n",
              "      <td>NaN</td>\n",
              "      <td>NaN</td>\n",
              "      <td>NaN</td>\n",
              "      <td>NaN</td>\n",
              "      <td>NaN</td>\n",
              "    </tr>\n",
              "    <tr>\n",
              "      <th>2</th>\n",
              "      <td>2013-01-03</td>\n",
              "      <td>1</td>\n",
              "      <td>1</td>\n",
              "      <td>14.0</td>\n",
              "      <td>NaN</td>\n",
              "      <td>1</td>\n",
              "      <td>3</td>\n",
              "      <td>3</td>\n",
              "      <td>1</td>\n",
              "      <td>4</td>\n",
              "      <td>2013</td>\n",
              "      <td>0</td>\n",
              "      <td>0</td>\n",
              "      <td>0</td>\n",
              "      <td>NaN</td>\n",
              "      <td>NaN</td>\n",
              "      <td>NaN</td>\n",
              "      <td>NaN</td>\n",
              "      <td>NaN</td>\n",
              "      <td>NaN</td>\n",
              "      <td>NaN</td>\n",
              "      <td>NaN</td>\n",
              "      <td>NaN</td>\n",
              "      <td>NaN</td>\n",
              "      <td>NaN</td>\n",
              "      <td>NaN</td>\n",
              "      <td>NaN</td>\n",
              "    </tr>\n",
              "    <tr>\n",
              "      <th>3</th>\n",
              "      <td>2013-01-04</td>\n",
              "      <td>1</td>\n",
              "      <td>1</td>\n",
              "      <td>13.0</td>\n",
              "      <td>NaN</td>\n",
              "      <td>1</td>\n",
              "      <td>4</td>\n",
              "      <td>4</td>\n",
              "      <td>1</td>\n",
              "      <td>5</td>\n",
              "      <td>2013</td>\n",
              "      <td>1</td>\n",
              "      <td>0</td>\n",
              "      <td>0</td>\n",
              "      <td>NaN</td>\n",
              "      <td>NaN</td>\n",
              "      <td>NaN</td>\n",
              "      <td>NaN</td>\n",
              "      <td>NaN</td>\n",
              "      <td>NaN</td>\n",
              "      <td>NaN</td>\n",
              "      <td>NaN</td>\n",
              "      <td>NaN</td>\n",
              "      <td>NaN</td>\n",
              "      <td>NaN</td>\n",
              "      <td>NaN</td>\n",
              "      <td>NaN</td>\n",
              "    </tr>\n",
              "    <tr>\n",
              "      <th>4</th>\n",
              "      <td>2013-01-05</td>\n",
              "      <td>1</td>\n",
              "      <td>1</td>\n",
              "      <td>10.0</td>\n",
              "      <td>NaN</td>\n",
              "      <td>1</td>\n",
              "      <td>5</td>\n",
              "      <td>5</td>\n",
              "      <td>1</td>\n",
              "      <td>6</td>\n",
              "      <td>2013</td>\n",
              "      <td>1</td>\n",
              "      <td>0</td>\n",
              "      <td>0</td>\n",
              "      <td>NaN</td>\n",
              "      <td>NaN</td>\n",
              "      <td>NaN</td>\n",
              "      <td>NaN</td>\n",
              "      <td>NaN</td>\n",
              "      <td>NaN</td>\n",
              "      <td>NaN</td>\n",
              "      <td>NaN</td>\n",
              "      <td>NaN</td>\n",
              "      <td>NaN</td>\n",
              "      <td>NaN</td>\n",
              "      <td>NaN</td>\n",
              "      <td>NaN</td>\n",
              "    </tr>\n",
              "  </tbody>\n",
              "</table>\n",
              "</div>"
            ],
            "text/plain": [
              "        date  store  ...  sales_roll_mean_546  sales_roll_mean_730\n",
              "0 2013-01-01      1  ...                  NaN                  NaN\n",
              "1 2013-01-02      1  ...                  NaN                  NaN\n",
              "2 2013-01-03      1  ...                  NaN                  NaN\n",
              "3 2013-01-04      1  ...                  NaN                  NaN\n",
              "4 2013-01-05      1  ...                  NaN                  NaN\n",
              "\n",
              "[5 rows x 27 columns]"
            ]
          },
          "metadata": {
            "tags": []
          },
          "execution_count": 37
        }
      ]
    },
    {
      "cell_type": "markdown",
      "metadata": {
        "papermill": {
          "duration": 0.05557,
          "end_time": "2021-03-24T15:49:49.296407",
          "exception": false,
          "start_time": "2021-03-24T15:49:49.240837",
          "status": "completed"
        },
        "tags": [],
        "id": "PWen7Ug3OU8H"
      },
      "source": [
        "The values for the newly derived lag and rolling mean features will be NaN for most of the train part of the dataframe. This is normal as we are trying to find patterns in order to be able to predict the values in test dataset."
      ]
    },
    {
      "cell_type": "markdown",
      "metadata": {
        "papermill": {
          "duration": 0.060181,
          "end_time": "2021-03-24T15:49:49.414232",
          "exception": false,
          "start_time": "2021-03-24T15:49:49.354051",
          "status": "completed"
        },
        "tags": [],
        "id": "qubm7iUROU8I"
      },
      "source": [
        "<a id=\"section-nine\"></a>\n",
        "## 3.5.4.Exponentially Weighted Mean Features  \n",
        "\n",
        "The value in time t highly depends on the value in time t-1, so in order to have a better prediction, while computing the average value, the values should not be equally weighted."
      ]
    },
    {
      "cell_type": "code",
      "metadata": {
        "execution": {
          "iopub.execute_input": "2021-03-24T15:49:49.535418Z",
          "iopub.status.busy": "2021-03-24T15:49:49.534703Z",
          "iopub.status.idle": "2021-03-24T15:49:49.538577Z",
          "shell.execute_reply": "2021-03-24T15:49:49.537746Z"
        },
        "papermill": {
          "duration": 0.067782,
          "end_time": "2021-03-24T15:49:49.538754",
          "exception": false,
          "start_time": "2021-03-24T15:49:49.470972",
          "status": "completed"
        },
        "tags": [],
        "id": "F3Dy4nMaOU8I"
      },
      "source": [
        "def ewm_features(dataframe, alphas, lags):\n",
        "    dataframe = dataframe.copy()\n",
        "    for alpha in alphas:\n",
        "        for lag in lags:\n",
        "            dataframe['sales_ewm_alpha_' + str(alpha).replace(\".\", \"\") + \"_lag_\" + str(lag)] = \\\n",
        "                dataframe.groupby([\"store\", \"item\"])['sales']. \\\n",
        "                    transform(lambda x: x.shift(lag).ewm(alpha=alpha).mean())\n",
        "    return dataframe"
      ],
      "execution_count": 38,
      "outputs": []
    },
    {
      "cell_type": "markdown",
      "metadata": {
        "papermill": {
          "duration": 0.056115,
          "end_time": "2021-03-24T15:49:49.650624",
          "exception": false,
          "start_time": "2021-03-24T15:49:49.594509",
          "status": "completed"
        },
        "tags": [],
        "id": "_m5HcFTnOU8J"
      },
      "source": [
        "In this function, values will be shifted by the given lags (number of days to be used for calculation) and the values will be weighted (using the alpha value) and the mean weighted value is obtained.\n",
        "Alpha is a parameter that is between 0 and 1, when close to 1 the near past will be weighted more and oppositely when close to 0 the far past will be weighted more."
      ]
    },
    {
      "cell_type": "code",
      "metadata": {
        "execution": {
          "iopub.execute_input": "2021-03-24T15:49:49.769021Z",
          "iopub.status.busy": "2021-03-24T15:49:49.767994Z",
          "iopub.status.idle": "2021-03-24T15:49:49.774106Z",
          "shell.execute_reply": "2021-03-24T15:49:49.773431Z"
        },
        "papermill": {
          "duration": 0.06568,
          "end_time": "2021-03-24T15:49:49.774292",
          "exception": false,
          "start_time": "2021-03-24T15:49:49.708612",
          "status": "completed"
        },
        "tags": [],
        "id": "nIhcDOYDOU8K"
      },
      "source": [
        "alphas = [0.95, 0.9, 0.8, 0.7, 0.5]\n",
        "lags = [91, 98, 105, 112, 180, 270, 365, 546, 728]"
      ],
      "execution_count": 39,
      "outputs": []
    },
    {
      "cell_type": "code",
      "metadata": {
        "execution": {
          "iopub.execute_input": "2021-03-24T15:49:49.892249Z",
          "iopub.status.busy": "2021-03-24T15:49:49.891137Z",
          "iopub.status.idle": "2021-03-24T15:50:04.075460Z",
          "shell.execute_reply": "2021-03-24T15:50:04.074718Z"
        },
        "papermill": {
          "duration": 14.244052,
          "end_time": "2021-03-24T15:50:04.075631",
          "exception": false,
          "start_time": "2021-03-24T15:49:49.831579",
          "status": "completed"
        },
        "tags": [],
        "colab": {
          "base_uri": "https://localhost:8080/",
          "height": 309
        },
        "id": "hj6UpMsyOU8L",
        "outputId": "cc236e85-976a-4f6d-e896-eee5e36656c1"
      },
      "source": [
        "df = ewm_features(df, alphas, lags)\n",
        "df.tail()"
      ],
      "execution_count": 40,
      "outputs": [
        {
          "output_type": "execute_result",
          "data": {
            "text/html": [
              "<div>\n",
              "<style scoped>\n",
              "    .dataframe tbody tr th:only-of-type {\n",
              "        vertical-align: middle;\n",
              "    }\n",
              "\n",
              "    .dataframe tbody tr th {\n",
              "        vertical-align: top;\n",
              "    }\n",
              "\n",
              "    .dataframe thead th {\n",
              "        text-align: right;\n",
              "    }\n",
              "</style>\n",
              "<table border=\"1\" class=\"dataframe\">\n",
              "  <thead>\n",
              "    <tr style=\"text-align: right;\">\n",
              "      <th></th>\n",
              "      <th>date</th>\n",
              "      <th>store</th>\n",
              "      <th>item</th>\n",
              "      <th>sales</th>\n",
              "      <th>id</th>\n",
              "      <th>month</th>\n",
              "      <th>day_of_month</th>\n",
              "      <th>day_of_year</th>\n",
              "      <th>week_of_year</th>\n",
              "      <th>day_of_week</th>\n",
              "      <th>year</th>\n",
              "      <th>is_wknd</th>\n",
              "      <th>is_month_start</th>\n",
              "      <th>is_month_end</th>\n",
              "      <th>sales_lag_91</th>\n",
              "      <th>sales_lag_98</th>\n",
              "      <th>sales_lag_105</th>\n",
              "      <th>sales_lag_112</th>\n",
              "      <th>sales_lag_119</th>\n",
              "      <th>sales_lag_126</th>\n",
              "      <th>sales_lag_182</th>\n",
              "      <th>sales_lag_364</th>\n",
              "      <th>sales_lag_546</th>\n",
              "      <th>sales_lag_728</th>\n",
              "      <th>sales_roll_mean_365</th>\n",
              "      <th>sales_roll_mean_546</th>\n",
              "      <th>sales_roll_mean_730</th>\n",
              "      <th>sales_ewm_alpha_095_lag_91</th>\n",
              "      <th>sales_ewm_alpha_095_lag_98</th>\n",
              "      <th>sales_ewm_alpha_095_lag_105</th>\n",
              "      <th>sales_ewm_alpha_095_lag_112</th>\n",
              "      <th>sales_ewm_alpha_095_lag_180</th>\n",
              "      <th>sales_ewm_alpha_095_lag_270</th>\n",
              "      <th>sales_ewm_alpha_095_lag_365</th>\n",
              "      <th>sales_ewm_alpha_095_lag_546</th>\n",
              "      <th>sales_ewm_alpha_095_lag_728</th>\n",
              "      <th>sales_ewm_alpha_09_lag_91</th>\n",
              "      <th>sales_ewm_alpha_09_lag_98</th>\n",
              "      <th>sales_ewm_alpha_09_lag_105</th>\n",
              "      <th>sales_ewm_alpha_09_lag_112</th>\n",
              "      <th>sales_ewm_alpha_09_lag_180</th>\n",
              "      <th>sales_ewm_alpha_09_lag_270</th>\n",
              "      <th>sales_ewm_alpha_09_lag_365</th>\n",
              "      <th>sales_ewm_alpha_09_lag_546</th>\n",
              "      <th>sales_ewm_alpha_09_lag_728</th>\n",
              "      <th>sales_ewm_alpha_08_lag_91</th>\n",
              "      <th>sales_ewm_alpha_08_lag_98</th>\n",
              "      <th>sales_ewm_alpha_08_lag_105</th>\n",
              "      <th>sales_ewm_alpha_08_lag_112</th>\n",
              "      <th>sales_ewm_alpha_08_lag_180</th>\n",
              "      <th>sales_ewm_alpha_08_lag_270</th>\n",
              "      <th>sales_ewm_alpha_08_lag_365</th>\n",
              "      <th>sales_ewm_alpha_08_lag_546</th>\n",
              "      <th>sales_ewm_alpha_08_lag_728</th>\n",
              "      <th>sales_ewm_alpha_07_lag_91</th>\n",
              "      <th>sales_ewm_alpha_07_lag_98</th>\n",
              "      <th>sales_ewm_alpha_07_lag_105</th>\n",
              "      <th>sales_ewm_alpha_07_lag_112</th>\n",
              "      <th>sales_ewm_alpha_07_lag_180</th>\n",
              "      <th>sales_ewm_alpha_07_lag_270</th>\n",
              "      <th>sales_ewm_alpha_07_lag_365</th>\n",
              "      <th>sales_ewm_alpha_07_lag_546</th>\n",
              "      <th>sales_ewm_alpha_07_lag_728</th>\n",
              "      <th>sales_ewm_alpha_05_lag_91</th>\n",
              "      <th>sales_ewm_alpha_05_lag_98</th>\n",
              "      <th>sales_ewm_alpha_05_lag_105</th>\n",
              "      <th>sales_ewm_alpha_05_lag_112</th>\n",
              "      <th>sales_ewm_alpha_05_lag_180</th>\n",
              "      <th>sales_ewm_alpha_05_lag_270</th>\n",
              "      <th>sales_ewm_alpha_05_lag_365</th>\n",
              "      <th>sales_ewm_alpha_05_lag_546</th>\n",
              "      <th>sales_ewm_alpha_05_lag_728</th>\n",
              "    </tr>\n",
              "  </thead>\n",
              "  <tbody>\n",
              "    <tr>\n",
              "      <th>44995</th>\n",
              "      <td>2018-03-27</td>\n",
              "      <td>10</td>\n",
              "      <td>50</td>\n",
              "      <td>NaN</td>\n",
              "      <td>44995.0</td>\n",
              "      <td>3</td>\n",
              "      <td>27</td>\n",
              "      <td>86</td>\n",
              "      <td>13</td>\n",
              "      <td>2</td>\n",
              "      <td>2018</td>\n",
              "      <td>0</td>\n",
              "      <td>0</td>\n",
              "      <td>0</td>\n",
              "      <td>41.075313</td>\n",
              "      <td>52.879479</td>\n",
              "      <td>66.462273</td>\n",
              "      <td>68.549745</td>\n",
              "      <td>67.963271</td>\n",
              "      <td>80.980415</td>\n",
              "      <td>78.996229</td>\n",
              "      <td>60.120380</td>\n",
              "      <td>98.069577</td>\n",
              "      <td>72.404707</td>\n",
              "      <td>88.801625</td>\n",
              "      <td>85.260011</td>\n",
              "      <td>82.585342</td>\n",
              "      <td>41.561777</td>\n",
              "      <td>54.028375</td>\n",
              "      <td>66.387487</td>\n",
              "      <td>67.349358</td>\n",
              "      <td>81.895724</td>\n",
              "      <td>112.421502</td>\n",
              "      <td>66.744209</td>\n",
              "      <td>94.617783</td>\n",
              "      <td>71.979468</td>\n",
              "      <td>42.244368</td>\n",
              "      <td>54.197995</td>\n",
              "      <td>65.849785</td>\n",
              "      <td>66.785772</td>\n",
              "      <td>81.777579</td>\n",
              "      <td>112.682169</td>\n",
              "      <td>67.473304</td>\n",
              "      <td>92.561560</td>\n",
              "      <td>71.115472</td>\n",
              "      <td>43.955442</td>\n",
              "      <td>54.879654</td>\n",
              "      <td>64.996171</td>\n",
              "      <td>65.861563</td>\n",
              "      <td>81.488819</td>\n",
              "      <td>112.703381</td>\n",
              "      <td>68.859556</td>\n",
              "      <td>89.361543</td>\n",
              "      <td>69.838571</td>\n",
              "      <td>46.091666</td>\n",
              "      <td>55.909793</td>\n",
              "      <td>64.428121</td>\n",
              "      <td>65.144155</td>\n",
              "      <td>81.162051</td>\n",
              "      <td>112.055216</td>\n",
              "      <td>70.090358</td>\n",
              "      <td>87.248414</td>\n",
              "      <td>69.116907</td>\n",
              "      <td>51.309755</td>\n",
              "      <td>58.648702</td>\n",
              "      <td>64.033868</td>\n",
              "      <td>64.335072</td>\n",
              "      <td>80.828687</td>\n",
              "      <td>109.036310</td>\n",
              "      <td>71.734958</td>\n",
              "      <td>85.489012</td>\n",
              "      <td>68.933911</td>\n",
              "    </tr>\n",
              "    <tr>\n",
              "      <th>44996</th>\n",
              "      <td>2018-03-28</td>\n",
              "      <td>10</td>\n",
              "      <td>50</td>\n",
              "      <td>NaN</td>\n",
              "      <td>44996.0</td>\n",
              "      <td>3</td>\n",
              "      <td>28</td>\n",
              "      <td>87</td>\n",
              "      <td>13</td>\n",
              "      <td>3</td>\n",
              "      <td>2018</td>\n",
              "      <td>0</td>\n",
              "      <td>0</td>\n",
              "      <td>0</td>\n",
              "      <td>65.198191</td>\n",
              "      <td>50.764235</td>\n",
              "      <td>66.656734</td>\n",
              "      <td>61.110777</td>\n",
              "      <td>76.480864</td>\n",
              "      <td>81.406536</td>\n",
              "      <td>78.896196</td>\n",
              "      <td>73.044706</td>\n",
              "      <td>81.545567</td>\n",
              "      <td>67.758608</td>\n",
              "      <td>88.452685</td>\n",
              "      <td>85.595824</td>\n",
              "      <td>81.543737</td>\n",
              "      <td>61.928089</td>\n",
              "      <td>51.151419</td>\n",
              "      <td>66.969374</td>\n",
              "      <td>60.367468</td>\n",
              "      <td>89.594786</td>\n",
              "      <td>118.671075</td>\n",
              "      <td>60.337210</td>\n",
              "      <td>80.730889</td>\n",
              "      <td>68.198973</td>\n",
              "      <td>60.924437</td>\n",
              "      <td>51.319799</td>\n",
              "      <td>66.884978</td>\n",
              "      <td>60.678577</td>\n",
              "      <td>89.177758</td>\n",
              "      <td>118.368217</td>\n",
              "      <td>60.747330</td>\n",
              "      <td>81.256156</td>\n",
              "      <td>68.311547</td>\n",
              "      <td>59.191088</td>\n",
              "      <td>51.775931</td>\n",
              "      <td>66.599234</td>\n",
              "      <td>61.172313</td>\n",
              "      <td>88.297764</td>\n",
              "      <td>117.740676</td>\n",
              "      <td>61.771911</td>\n",
              "      <td>81.872309</td>\n",
              "      <td>68.367714</td>\n",
              "      <td>57.927500</td>\n",
              "      <td>52.472938</td>\n",
              "      <td>66.228436</td>\n",
              "      <td>61.543247</td>\n",
              "      <td>87.348615</td>\n",
              "      <td>116.916565</td>\n",
              "      <td>63.027108</td>\n",
              "      <td>82.174524</td>\n",
              "      <td>68.335072</td>\n",
              "      <td>57.154878</td>\n",
              "      <td>54.824351</td>\n",
              "      <td>65.516934</td>\n",
              "      <td>62.167536</td>\n",
              "      <td>85.414343</td>\n",
              "      <td>114.018155</td>\n",
              "      <td>65.867479</td>\n",
              "      <td>82.744506</td>\n",
              "      <td>68.466956</td>\n",
              "    </tr>\n",
              "    <tr>\n",
              "      <th>44997</th>\n",
              "      <td>2018-03-29</td>\n",
              "      <td>10</td>\n",
              "      <td>50</td>\n",
              "      <td>NaN</td>\n",
              "      <td>44997.0</td>\n",
              "      <td>3</td>\n",
              "      <td>29</td>\n",
              "      <td>88</td>\n",
              "      <td>13</td>\n",
              "      <td>4</td>\n",
              "      <td>2018</td>\n",
              "      <td>0</td>\n",
              "      <td>0</td>\n",
              "      <td>0</td>\n",
              "      <td>61.251978</td>\n",
              "      <td>60.604652</td>\n",
              "      <td>72.229030</td>\n",
              "      <td>64.217129</td>\n",
              "      <td>72.321187</td>\n",
              "      <td>85.813036</td>\n",
              "      <td>82.010079</td>\n",
              "      <td>67.971180</td>\n",
              "      <td>97.791378</td>\n",
              "      <td>74.192596</td>\n",
              "      <td>88.234472</td>\n",
              "      <td>84.911291</td>\n",
              "      <td>82.472102</td>\n",
              "      <td>59.146404</td>\n",
              "      <td>62.407571</td>\n",
              "      <td>71.748469</td>\n",
              "      <td>65.718373</td>\n",
              "      <td>102.329739</td>\n",
              "      <td>119.933554</td>\n",
              "      <td>72.366861</td>\n",
              "      <td>98.086544</td>\n",
              "      <td>74.659949</td>\n",
              "      <td>59.192444</td>\n",
              "      <td>61.831980</td>\n",
              "      <td>71.488498</td>\n",
              "      <td>65.467858</td>\n",
              "      <td>101.617776</td>\n",
              "      <td>119.836822</td>\n",
              "      <td>71.774733</td>\n",
              "      <td>97.225616</td>\n",
              "      <td>74.331155</td>\n",
              "      <td>59.038218</td>\n",
              "      <td>60.755186</td>\n",
              "      <td>70.919847</td>\n",
              "      <td>65.034463</td>\n",
              "      <td>100.059553</td>\n",
              "      <td>119.548135</td>\n",
              "      <td>70.754382</td>\n",
              "      <td>95.574462</td>\n",
              "      <td>73.673543</td>\n",
              "      <td>58.678250</td>\n",
              "      <td>59.841881</td>\n",
              "      <td>70.268531</td>\n",
              "      <td>64.662974</td>\n",
              "      <td>98.304585</td>\n",
              "      <td>119.074969</td>\n",
              "      <td>70.008132</td>\n",
              "      <td>93.952357</td>\n",
              "      <td>73.000522</td>\n",
              "      <td>58.077439</td>\n",
              "      <td>58.912176</td>\n",
              "      <td>68.758467</td>\n",
              "      <td>64.083768</td>\n",
              "      <td>94.207172</td>\n",
              "      <td>117.009078</td>\n",
              "      <td>69.433740</td>\n",
              "      <td>90.872253</td>\n",
              "      <td>71.733478</td>\n",
              "    </tr>\n",
              "    <tr>\n",
              "      <th>44998</th>\n",
              "      <td>2018-03-30</td>\n",
              "      <td>10</td>\n",
              "      <td>50</td>\n",
              "      <td>NaN</td>\n",
              "      <td>44998.0</td>\n",
              "      <td>3</td>\n",
              "      <td>30</td>\n",
              "      <td>89</td>\n",
              "      <td>13</td>\n",
              "      <td>5</td>\n",
              "      <td>2018</td>\n",
              "      <td>1</td>\n",
              "      <td>0</td>\n",
              "      <td>0</td>\n",
              "      <td>74.157642</td>\n",
              "      <td>73.732775</td>\n",
              "      <td>72.876676</td>\n",
              "      <td>65.606493</td>\n",
              "      <td>66.231807</td>\n",
              "      <td>81.456136</td>\n",
              "      <td>88.558546</td>\n",
              "      <td>69.648581</td>\n",
              "      <td>79.882142</td>\n",
              "      <td>83.962295</td>\n",
              "      <td>87.184589</td>\n",
              "      <td>85.136766</td>\n",
              "      <td>81.356587</td>\n",
              "      <td>73.257320</td>\n",
              "      <td>74.370379</td>\n",
              "      <td>71.987423</td>\n",
              "      <td>66.935919</td>\n",
              "      <td>99.166487</td>\n",
              "      <td>100.046678</td>\n",
              "      <td>68.218343</td>\n",
              "      <td>79.954327</td>\n",
              "      <td>82.582997</td>\n",
              "      <td>72.519244</td>\n",
              "      <td>73.683198</td>\n",
              "      <td>71.948850</td>\n",
              "      <td>66.846786</td>\n",
              "      <td>99.261778</td>\n",
              "      <td>101.083682</td>\n",
              "      <td>68.377473</td>\n",
              "      <td>80.822562</td>\n",
              "      <td>82.133115</td>\n",
              "      <td>71.007644</td>\n",
              "      <td>72.151037</td>\n",
              "      <td>71.783969</td>\n",
              "      <td>66.606893</td>\n",
              "      <td>99.211911</td>\n",
              "      <td>103.109627</td>\n",
              "      <td>68.550876</td>\n",
              "      <td>82.314892</td>\n",
              "      <td>81.134709</td>\n",
              "      <td>69.403475</td>\n",
              "      <td>70.452564</td>\n",
              "      <td>71.480559</td>\n",
              "      <td>66.298892</td>\n",
              "      <td>98.791375</td>\n",
              "      <td>105.022491</td>\n",
              "      <td>68.602440</td>\n",
              "      <td>83.485707</td>\n",
              "      <td>80.000156</td>\n",
              "      <td>66.038719</td>\n",
              "      <td>66.956088</td>\n",
              "      <td>70.379233</td>\n",
              "      <td>65.541884</td>\n",
              "      <td>96.603586</td>\n",
              "      <td>108.004539</td>\n",
              "      <td>68.716870</td>\n",
              "      <td>84.936127</td>\n",
              "      <td>77.366739</td>\n",
              "    </tr>\n",
              "    <tr>\n",
              "      <th>44999</th>\n",
              "      <td>2018-03-31</td>\n",
              "      <td>10</td>\n",
              "      <td>50</td>\n",
              "      <td>NaN</td>\n",
              "      <td>44999.0</td>\n",
              "      <td>3</td>\n",
              "      <td>31</td>\n",
              "      <td>90</td>\n",
              "      <td>13</td>\n",
              "      <td>6</td>\n",
              "      <td>2018</td>\n",
              "      <td>1</td>\n",
              "      <td>0</td>\n",
              "      <td>1</td>\n",
              "      <td>62.305229</td>\n",
              "      <td>70.359124</td>\n",
              "      <td>51.870544</td>\n",
              "      <td>69.323899</td>\n",
              "      <td>48.761866</td>\n",
              "      <td>75.702784</td>\n",
              "      <td>103.728355</td>\n",
              "      <td>100.440561</td>\n",
              "      <td>96.845364</td>\n",
              "      <td>82.498525</td>\n",
              "      <td>87.825214</td>\n",
              "      <td>85.603332</td>\n",
              "      <td>82.960977</td>\n",
              "      <td>62.562866</td>\n",
              "      <td>70.218519</td>\n",
              "      <td>52.999371</td>\n",
              "      <td>68.896796</td>\n",
              "      <td>72.408324</td>\n",
              "      <td>98.102334</td>\n",
              "      <td>68.960917</td>\n",
              "      <td>96.147716</td>\n",
              "      <td>82.029150</td>\n",
              "      <td>63.051924</td>\n",
              "      <td>70.368320</td>\n",
              "      <td>53.994885</td>\n",
              "      <td>68.784679</td>\n",
              "      <td>73.826178</td>\n",
              "      <td>98.308368</td>\n",
              "      <td>68.937747</td>\n",
              "      <td>95.382256</td>\n",
              "      <td>82.013312</td>\n",
              "      <td>63.801529</td>\n",
              "      <td>70.430207</td>\n",
              "      <td>55.956794</td>\n",
              "      <td>68.521379</td>\n",
              "      <td>76.642382</td>\n",
              "      <td>99.021925</td>\n",
              "      <td>68.910175</td>\n",
              "      <td>94.062978</td>\n",
              "      <td>81.826942</td>\n",
              "      <td>64.221042</td>\n",
              "      <td>70.135769</td>\n",
              "      <td>57.844168</td>\n",
              "      <td>68.189668</td>\n",
              "      <td>79.337413</td>\n",
              "      <td>100.106747</td>\n",
              "      <td>68.880732</td>\n",
              "      <td>92.945712</td>\n",
              "      <td>81.400047</td>\n",
              "      <td>64.019360</td>\n",
              "      <td>68.478044</td>\n",
              "      <td>61.189617</td>\n",
              "      <td>67.270942</td>\n",
              "      <td>83.801793</td>\n",
              "      <td>103.002269</td>\n",
              "      <td>68.858435</td>\n",
              "      <td>90.968063</td>\n",
              "      <td>79.683369</td>\n",
              "    </tr>\n",
              "  </tbody>\n",
              "</table>\n",
              "</div>"
            ],
            "text/plain": [
              "            date  store  ...  sales_ewm_alpha_05_lag_546  sales_ewm_alpha_05_lag_728\n",
              "44995 2018-03-27     10  ...                   85.489012                   68.933911\n",
              "44996 2018-03-28     10  ...                   82.744506                   68.466956\n",
              "44997 2018-03-29     10  ...                   90.872253                   71.733478\n",
              "44998 2018-03-30     10  ...                   84.936127                   77.366739\n",
              "44999 2018-03-31     10  ...                   90.968063                   79.683369\n",
              "\n",
              "[5 rows x 72 columns]"
            ]
          },
          "metadata": {
            "tags": []
          },
          "execution_count": 40
        }
      ]
    },
    {
      "cell_type": "markdown",
      "metadata": {
        "papermill": {
          "duration": 0.058459,
          "end_time": "2021-03-24T15:50:05.630818",
          "exception": false,
          "start_time": "2021-03-24T15:50:05.572359",
          "status": "completed"
        },
        "tags": [],
        "id": "_vBFKCtEOU8O"
      },
      "source": [
        "## Taking Log Values of Sales  \n",
        "\n",
        "In regression problems using gradient descent optimisation, when the target value is higher, the number of iterations would decrease and so the computation time. In order to eliminate this problem, I will be taking the logaritmic values of the target value. "
      ]
    },
    {
      "cell_type": "code",
      "metadata": {
        "execution": {
          "iopub.execute_input": "2021-03-24T15:50:05.762742Z",
          "iopub.status.busy": "2021-03-24T15:50:05.762024Z",
          "iopub.status.idle": "2021-03-24T15:50:05.791541Z",
          "shell.execute_reply": "2021-03-24T15:50:05.790835Z"
        },
        "papermill": {
          "duration": 0.098835,
          "end_time": "2021-03-24T15:50:05.791711",
          "exception": false,
          "start_time": "2021-03-24T15:50:05.692876",
          "status": "completed"
        },
        "tags": [],
        "colab": {
          "base_uri": "https://localhost:8080/"
        },
        "id": "f4nObUnoOU8O",
        "outputId": "74bf4e33-0bd5-407e-b417-455dd858971d"
      },
      "source": [
        "df['sales'] = np.log1p(df[\"sales\"].values)\n",
        "df['sales'].head() "
      ],
      "execution_count": 64,
      "outputs": [
        {
          "output_type": "execute_result",
          "data": {
            "text/plain": [
              "0    1.291725\n",
              "1    1.248441\n",
              "2    1.310506\n",
              "3    1.291725\n",
              "4    1.223156\n",
              "Name: sales, dtype: float64"
            ]
          },
          "metadata": {
            "tags": []
          },
          "execution_count": 64
        }
      ]
    },
    {
      "cell_type": "markdown",
      "metadata": {
        "papermill": {
          "duration": 0.062342,
          "end_time": "2021-03-24T15:50:05.913918",
          "exception": false,
          "start_time": "2021-03-24T15:50:05.851576",
          "status": "completed"
        },
        "tags": [],
        "id": "ktureFJ-OU8P"
      },
      "source": [
        "<a id=\"section-eleven\"></a>\n",
        "## 3.7.Custom Cost Function \n",
        "\n",
        "I will define a custom cost function which is based on SMAPE which reverses the log values and calculates the SMAPE."
      ]
    },
    {
      "cell_type": "code",
      "metadata": {
        "execution": {
          "iopub.execute_input": "2021-03-24T15:50:06.040318Z",
          "iopub.status.busy": "2021-03-24T15:50:06.039136Z",
          "iopub.status.idle": "2021-03-24T15:50:06.043186Z",
          "shell.execute_reply": "2021-03-24T15:50:06.042477Z"
        },
        "papermill": {
          "duration": 0.071406,
          "end_time": "2021-03-24T15:50:06.043339",
          "exception": false,
          "start_time": "2021-03-24T15:50:05.971933",
          "status": "completed"
        },
        "tags": [],
        "id": "dfIF-qlMOU8Q"
      },
      "source": [
        "def smape(preds, target):\n",
        "    n = len(preds)\n",
        "    masked_arr = ~((preds == 0) & (target == 0))\n",
        "    preds, target = preds[masked_arr], target[masked_arr]\n",
        "    num = np.abs(preds-target)\n",
        "    denom = np.abs(preds)+np.abs(target)\n",
        "    smape_val = (200*np.sum(num/denom))/n\n",
        "    return smape_val\n",
        "\n",
        "def lgbm_smape(preds, train_data):\n",
        "    labels = train_data.get_label()\n",
        "    smape_val = smape(np.expm1(preds), np.expm1(labels))\n",
        "    return 'SMAPE', smape_val, False"
      ],
      "execution_count": 65,
      "outputs": []
    },
    {
      "cell_type": "markdown",
      "metadata": {
        "papermill": {
          "duration": 0.058259,
          "end_time": "2021-03-24T15:50:06.161317",
          "exception": false,
          "start_time": "2021-03-24T15:50:06.103058",
          "status": "completed"
        },
        "tags": [],
        "id": "xMvbE5WnOU8R"
      },
      "source": [
        "**SMAPE**:  \n",
        "\n",
        "Symmetric mean absolute percentage error (SMAPE or sMAPE) is an accuracy measure based on percentage (or relative) errors. Errors with higher values will be adjusted by diving it to the sum of the forecast and actual value's average.\n"
      ]
    },
    {
      "cell_type": "markdown",
      "metadata": {
        "papermill": {
          "duration": 0.059621,
          "end_time": "2021-03-24T15:50:06.279277",
          "exception": false,
          "start_time": "2021-03-24T15:50:06.219656",
          "status": "completed"
        },
        "tags": [],
        "id": "32xCwTBXOU8S"
      },
      "source": [
        "<a id=\"section-twelve\"></a>\n",
        "##  3.8.Train-Validation Split\n",
        "\n",
        "Validation will be the exact same time period as test, but the year before. "
      ]
    },
    {
      "cell_type": "code",
      "metadata": {
        "execution": {
          "iopub.execute_input": "2021-03-24T15:50:06.411547Z",
          "iopub.status.busy": "2021-03-24T15:50:06.410347Z",
          "iopub.status.idle": "2021-03-24T15:50:07.130151Z",
          "shell.execute_reply": "2021-03-24T15:50:07.129479Z"
        },
        "papermill": {
          "duration": 0.79044,
          "end_time": "2021-03-24T15:50:07.130308",
          "exception": false,
          "start_time": "2021-03-24T15:50:06.339868",
          "status": "completed"
        },
        "tags": [],
        "colab": {
          "base_uri": "https://localhost:8080/"
        },
        "id": "wq7gOMNBOU8S",
        "outputId": "a1ed2b11-36c9-4364-fc6b-23e576b14f72"
      },
      "source": [
        "train = df.loc[(df[\"date\"] < \"2017-01-01\"), :]\n",
        "train[\"date\"].min(), train[\"date\"].max()"
      ],
      "execution_count": 66,
      "outputs": [
        {
          "output_type": "execute_result",
          "data": {
            "text/plain": [
              "(Timestamp('2013-01-01 00:00:00'), Timestamp('2016-12-31 00:00:00'))"
            ]
          },
          "metadata": {
            "tags": []
          },
          "execution_count": 66
        }
      ]
    },
    {
      "cell_type": "code",
      "metadata": {
        "execution": {
          "iopub.execute_input": "2021-03-24T15:50:07.267355Z",
          "iopub.status.busy": "2021-03-24T15:50:07.266559Z",
          "iopub.status.idle": "2021-03-24T15:50:07.297550Z",
          "shell.execute_reply": "2021-03-24T15:50:07.296850Z"
        },
        "papermill": {
          "duration": 0.106885,
          "end_time": "2021-03-24T15:50:07.297723",
          "exception": false,
          "start_time": "2021-03-24T15:50:07.190838",
          "status": "completed"
        },
        "tags": [],
        "id": "vM3kO9rOOU8T"
      },
      "source": [
        "val = df.loc[(df[\"date\"] >= \"2017-01-01\") & (df[\"date\"] < \"2017-04-01\"), :]"
      ],
      "execution_count": 67,
      "outputs": []
    },
    {
      "cell_type": "code",
      "metadata": {
        "execution": {
          "iopub.execute_input": "2021-03-24T15:50:07.421692Z",
          "iopub.status.busy": "2021-03-24T15:50:07.420975Z",
          "iopub.status.idle": "2021-03-24T15:50:07.424666Z",
          "shell.execute_reply": "2021-03-24T15:50:07.424063Z"
        },
        "papermill": {
          "duration": 0.067885,
          "end_time": "2021-03-24T15:50:07.424835",
          "exception": false,
          "start_time": "2021-03-24T15:50:07.356950",
          "status": "completed"
        },
        "tags": [],
        "id": "GBbwuRaWOU8U"
      },
      "source": [
        "# columns with no useful information or with information that is already derived will be dropped.\n",
        "\n",
        "cols = [col for col in train.columns if col not in ['date', 'id', \"sales\", \"year\"]]"
      ],
      "execution_count": 68,
      "outputs": []
    },
    {
      "cell_type": "code",
      "metadata": {
        "execution": {
          "iopub.execute_input": "2021-03-24T15:50:07.669705Z",
          "iopub.status.busy": "2021-03-24T15:50:07.563564Z",
          "iopub.status.idle": "2021-03-24T15:50:07.742993Z",
          "shell.execute_reply": "2021-03-24T15:50:07.742432Z"
        },
        "papermill": {
          "duration": 0.258506,
          "end_time": "2021-03-24T15:50:07.743152",
          "exception": false,
          "start_time": "2021-03-24T15:50:07.484646",
          "status": "completed"
        },
        "tags": [],
        "id": "A_yt01aLOU8V"
      },
      "source": [
        "Y_train = train['sales']\n",
        "X_train = train[cols]\n",
        "\n",
        "Y_val = val['sales']\n",
        "X_val = val[cols]"
      ],
      "execution_count": 70,
      "outputs": []
    },
    {
      "cell_type": "markdown",
      "metadata": {
        "papermill": {
          "duration": 0.063096,
          "end_time": "2021-03-24T15:50:07.867972",
          "exception": false,
          "start_time": "2021-03-24T15:50:07.804876",
          "status": "completed"
        },
        "tags": [],
        "id": "4UyU-LEUOU8W"
      },
      "source": [
        "If the model begins to memorize the train dataset instead of learning it, the error will get lower but the model won't be able to have a good prediction of the validation set (because it didn't learn the patterns) so the error in validation will begin to increase.\n",
        "\n",
        "In the below graphic, as variance increase, the errors in both train and dataset decrease until they reach to a certain point where the test errors no longer decrease but train errors are still decreasing. This is the point where overfitting begins. This is the point where the iteration process should be interrupted. This will be handled by a special hyperparameter within LightGBM.\n",
        "\n",
        "early_stopping_rounds wil be given as a hyperparameter. In the specified time intervals, the iteration will be paused and the l1 and SMAPE of train and validation set will be calculated, at the point where the validation error will begin to increase while train error is still decreasing, the iteration process will be interrupted."
      ]
    },
    {
      "cell_type": "markdown",
      "metadata": {
        "papermill": {
          "duration": 0.063836,
          "end_time": "2021-03-24T15:50:08.126030",
          "exception": false,
          "start_time": "2021-03-24T15:50:08.062194",
          "status": "completed"
        },
        "tags": [],
        "id": "2iDZBy5ROU8Y"
      },
      "source": [
        "<a id=\"section-thirteen\"></a>\n",
        "## 3.9.Base Model"
      ]
    },
    {
      "cell_type": "code",
      "metadata": {
        "execution": {
          "iopub.execute_input": "2021-03-24T15:50:08.256594Z",
          "iopub.status.busy": "2021-03-24T15:50:08.255559Z",
          "iopub.status.idle": "2021-03-24T15:50:08.259270Z",
          "shell.execute_reply": "2021-03-24T15:50:08.259796Z"
        },
        "papermill": {
          "duration": 0.070612,
          "end_time": "2021-03-24T15:50:08.260472",
          "exception": false,
          "start_time": "2021-03-24T15:50:08.189860",
          "status": "completed"
        },
        "tags": [],
        "id": "uL51VjO5OU8Z"
      },
      "source": [
        "lgb_params = {'metric': {'mae'},\n",
        "              'num_leaves': 10,\n",
        "              'learning_rate': 0.02,\n",
        "              'feature_fraction': 0.8,\n",
        "              'max_depth': 5,\n",
        "              'verbose': 0,\n",
        "              'num_boost_round': 15000,\n",
        "              'early_stopping_rounds': 200,\n",
        "              'nthread': -1}"
      ],
      "execution_count": 71,
      "outputs": []
    },
    {
      "cell_type": "code",
      "metadata": {
        "execution": {
          "iopub.execute_input": "2021-03-24T15:50:08.385828Z",
          "iopub.status.busy": "2021-03-24T15:50:08.384755Z",
          "iopub.status.idle": "2021-03-24T15:50:08.389430Z",
          "shell.execute_reply": "2021-03-24T15:50:08.388798Z"
        },
        "papermill": {
          "duration": 0.069819,
          "end_time": "2021-03-24T15:50:08.389580",
          "exception": false,
          "start_time": "2021-03-24T15:50:08.319761",
          "status": "completed"
        },
        "tags": [],
        "id": "OaWw0hLJOU8a"
      },
      "source": [
        "lgbtrain = lgb.Dataset(data=X_train, label=Y_train, feature_name=cols)\n",
        "lgbval = lgb.Dataset(data=X_val, label=Y_val, reference=lgbtrain, feature_name=cols)"
      ],
      "execution_count": 72,
      "outputs": []
    },
    {
      "cell_type": "code",
      "metadata": {
        "execution": {
          "iopub.execute_input": "2021-03-24T15:50:08.515772Z",
          "iopub.status.busy": "2021-03-24T15:50:08.514855Z",
          "iopub.status.idle": "2021-03-24T15:50:08.520210Z",
          "shell.execute_reply": "2021-03-24T15:50:08.520790Z"
        },
        "papermill": {
          "duration": 0.070294,
          "end_time": "2021-03-24T15:50:08.520994",
          "exception": false,
          "start_time": "2021-03-24T15:50:08.450700",
          "status": "completed"
        },
        "tags": [],
        "colab": {
          "base_uri": "https://localhost:8080/"
        },
        "id": "lWno7TFYOU8a",
        "outputId": "32251843-3b93-4151-8c55-a866ba44f4de"
      },
      "source": [
        "# lgbtrain and lgbval's datatype is LightGBM Dataset\n",
        "\n",
        "type(lgbtrain)"
      ],
      "execution_count": 73,
      "outputs": [
        {
          "output_type": "execute_result",
          "data": {
            "text/plain": [
              "lightgbm.basic.Dataset"
            ]
          },
          "metadata": {
            "tags": []
          },
          "execution_count": 73
        }
      ]
    },
    {
      "cell_type": "code",
      "metadata": {
        "execution": {
          "iopub.execute_input": "2021-03-24T15:50:08.652904Z",
          "iopub.status.busy": "2021-03-24T15:50:08.652201Z",
          "iopub.status.idle": "2021-03-24T16:10:53.364027Z",
          "shell.execute_reply": "2021-03-24T16:10:53.364613Z"
        },
        "papermill": {
          "duration": 1244.781157,
          "end_time": "2021-03-24T16:10:53.364893",
          "exception": false,
          "start_time": "2021-03-24T15:50:08.583736",
          "status": "completed"
        },
        "tags": [],
        "colab": {
          "base_uri": "https://localhost:8080/"
        },
        "id": "RM7Gdk_aOU8b",
        "outputId": "82585d4e-1a51-46e2-dc39-64e91256bfbe"
      },
      "source": [
        "model = lgb.train(lgb_params, lgbtrain,\n",
        "                  valid_sets=[lgbtrain, lgbval],\n",
        "                  num_boost_round=lgb_params['num_boost_round'],\n",
        "                  early_stopping_rounds=lgb_params['early_stopping_rounds'],\n",
        "                  feval=lgbm_smape,\n",
        "                  verbose_eval=200)"
      ],
      "execution_count": 74,
      "outputs": [
        {
          "output_type": "stream",
          "text": [
            "Training until validation scores don't improve for 200 rounds.\n",
            "[200]\ttraining's l1: 0.0308579\ttraining's SMAPE: 3.97236\tvalid_1's l1: 0.0319307\tvalid_1's SMAPE: 4.12844\n",
            "[400]\ttraining's l1: 0.0292386\ttraining's SMAPE: 3.7685\tvalid_1's l1: 0.0307062\tvalid_1's SMAPE: 3.96975\n",
            "[600]\ttraining's l1: 0.028768\ttraining's SMAPE: 3.7091\tvalid_1's l1: 0.0302632\tvalid_1's SMAPE: 3.91375\n",
            "[800]\ttraining's l1: 0.0285119\ttraining's SMAPE: 3.67667\tvalid_1's l1: 0.0299852\tvalid_1's SMAPE: 3.87868\n",
            "[1000]\ttraining's l1: 0.0283323\ttraining's SMAPE: 3.65388\tvalid_1's l1: 0.0298253\tvalid_1's SMAPE: 3.8585\n",
            "[1200]\ttraining's l1: 0.0282043\ttraining's SMAPE: 3.63761\tvalid_1's l1: 0.0297448\tvalid_1's SMAPE: 3.84826\n",
            "[1400]\ttraining's l1: 0.0281052\ttraining's SMAPE: 3.62499\tvalid_1's l1: 0.0296857\tvalid_1's SMAPE: 3.84072\n",
            "[1600]\ttraining's l1: 0.0280284\ttraining's SMAPE: 3.61522\tvalid_1's l1: 0.0296253\tvalid_1's SMAPE: 3.83313\n",
            "[1800]\ttraining's l1: 0.0279659\ttraining's SMAPE: 3.60724\tvalid_1's l1: 0.0295758\tvalid_1's SMAPE: 3.82691\n",
            "[2000]\ttraining's l1: 0.0279164\ttraining's SMAPE: 3.60086\tvalid_1's l1: 0.0295474\tvalid_1's SMAPE: 3.82334\n",
            "[2200]\ttraining's l1: 0.0278723\ttraining's SMAPE: 3.59518\tvalid_1's l1: 0.0295172\tvalid_1's SMAPE: 3.81953\n",
            "[2400]\ttraining's l1: 0.0278327\ttraining's SMAPE: 3.59008\tvalid_1's l1: 0.0294918\tvalid_1's SMAPE: 3.81632\n",
            "[2600]\ttraining's l1: 0.0277973\ttraining's SMAPE: 3.58551\tvalid_1's l1: 0.029467\tvalid_1's SMAPE: 3.81319\n",
            "[2800]\ttraining's l1: 0.0277653\ttraining's SMAPE: 3.58138\tvalid_1's l1: 0.0294458\tvalid_1's SMAPE: 3.81051\n",
            "[3000]\ttraining's l1: 0.0277357\ttraining's SMAPE: 3.57755\tvalid_1's l1: 0.0294287\tvalid_1's SMAPE: 3.80834\n",
            "[3200]\ttraining's l1: 0.0277081\ttraining's SMAPE: 3.57397\tvalid_1's l1: 0.0294131\tvalid_1's SMAPE: 3.80638\n",
            "[3400]\ttraining's l1: 0.0276811\ttraining's SMAPE: 3.57047\tvalid_1's l1: 0.0293985\tvalid_1's SMAPE: 3.80455\n",
            "[3600]\ttraining's l1: 0.0276571\ttraining's SMAPE: 3.56735\tvalid_1's l1: 0.0293851\tvalid_1's SMAPE: 3.80286\n",
            "[3800]\ttraining's l1: 0.0276346\ttraining's SMAPE: 3.56441\tvalid_1's l1: 0.0293698\tvalid_1's SMAPE: 3.80094\n",
            "[4000]\ttraining's l1: 0.0276128\ttraining's SMAPE: 3.56157\tvalid_1's l1: 0.0293579\tvalid_1's SMAPE: 3.79945\n",
            "[4200]\ttraining's l1: 0.0275918\ttraining's SMAPE: 3.55883\tvalid_1's l1: 0.029346\tvalid_1's SMAPE: 3.79793\n",
            "[4400]\ttraining's l1: 0.0275719\ttraining's SMAPE: 3.55621\tvalid_1's l1: 0.0293353\tvalid_1's SMAPE: 3.79659\n",
            "[4600]\ttraining's l1: 0.0275525\ttraining's SMAPE: 3.55367\tvalid_1's l1: 0.0293259\tvalid_1's SMAPE: 3.7954\n",
            "[4800]\ttraining's l1: 0.0275326\ttraining's SMAPE: 3.55106\tvalid_1's l1: 0.0293178\tvalid_1's SMAPE: 3.79437\n",
            "[5000]\ttraining's l1: 0.0275138\ttraining's SMAPE: 3.54859\tvalid_1's l1: 0.0293093\tvalid_1's SMAPE: 3.79332\n",
            "[5200]\ttraining's l1: 0.0274956\ttraining's SMAPE: 3.54619\tvalid_1's l1: 0.0293014\tvalid_1's SMAPE: 3.79231\n",
            "[5400]\ttraining's l1: 0.0274777\ttraining's SMAPE: 3.54384\tvalid_1's l1: 0.0292956\tvalid_1's SMAPE: 3.79159\n",
            "[5600]\ttraining's l1: 0.0274602\ttraining's SMAPE: 3.54154\tvalid_1's l1: 0.0292906\tvalid_1's SMAPE: 3.79097\n",
            "[5800]\ttraining's l1: 0.0274431\ttraining's SMAPE: 3.53927\tvalid_1's l1: 0.0292863\tvalid_1's SMAPE: 3.79043\n",
            "[6000]\ttraining's l1: 0.0274264\ttraining's SMAPE: 3.53708\tvalid_1's l1: 0.0292817\tvalid_1's SMAPE: 3.78985\n",
            "[6200]\ttraining's l1: 0.0274104\ttraining's SMAPE: 3.53498\tvalid_1's l1: 0.0292764\tvalid_1's SMAPE: 3.78917\n",
            "[6400]\ttraining's l1: 0.0273945\ttraining's SMAPE: 3.53287\tvalid_1's l1: 0.0292718\tvalid_1's SMAPE: 3.7886\n",
            "[6600]\ttraining's l1: 0.0273785\ttraining's SMAPE: 3.53076\tvalid_1's l1: 0.0292683\tvalid_1's SMAPE: 3.78816\n",
            "[6800]\ttraining's l1: 0.0273631\ttraining's SMAPE: 3.52873\tvalid_1's l1: 0.0292664\tvalid_1's SMAPE: 3.78794\n",
            "[7000]\ttraining's l1: 0.0273476\ttraining's SMAPE: 3.52669\tvalid_1's l1: 0.0292644\tvalid_1's SMAPE: 3.78769\n",
            "[7200]\ttraining's l1: 0.0273322\ttraining's SMAPE: 3.52465\tvalid_1's l1: 0.0292611\tvalid_1's SMAPE: 3.78727\n",
            "[7400]\ttraining's l1: 0.0273171\ttraining's SMAPE: 3.52265\tvalid_1's l1: 0.0292564\tvalid_1's SMAPE: 3.78669\n",
            "[7600]\ttraining's l1: 0.0273025\ttraining's SMAPE: 3.52073\tvalid_1's l1: 0.0292553\tvalid_1's SMAPE: 3.78656\n",
            "[7800]\ttraining's l1: 0.0272879\ttraining's SMAPE: 3.51879\tvalid_1's l1: 0.0292528\tvalid_1's SMAPE: 3.78625\n",
            "[8000]\ttraining's l1: 0.0272736\ttraining's SMAPE: 3.51691\tvalid_1's l1: 0.0292502\tvalid_1's SMAPE: 3.78593\n",
            "[8200]\ttraining's l1: 0.0272597\ttraining's SMAPE: 3.51506\tvalid_1's l1: 0.029247\tvalid_1's SMAPE: 3.78554\n",
            "[8400]\ttraining's l1: 0.027246\ttraining's SMAPE: 3.51325\tvalid_1's l1: 0.0292422\tvalid_1's SMAPE: 3.78491\n",
            "[8600]\ttraining's l1: 0.0272323\ttraining's SMAPE: 3.51144\tvalid_1's l1: 0.0292415\tvalid_1's SMAPE: 3.78485\n",
            "[8800]\ttraining's l1: 0.0272185\ttraining's SMAPE: 3.50962\tvalid_1's l1: 0.0292384\tvalid_1's SMAPE: 3.78446\n",
            "[9000]\ttraining's l1: 0.0272051\ttraining's SMAPE: 3.50784\tvalid_1's l1: 0.0292359\tvalid_1's SMAPE: 3.78414\n",
            "[9200]\ttraining's l1: 0.0271915\ttraining's SMAPE: 3.50605\tvalid_1's l1: 0.0292335\tvalid_1's SMAPE: 3.78385\n",
            "[9400]\ttraining's l1: 0.0271787\ttraining's SMAPE: 3.50435\tvalid_1's l1: 0.0292321\tvalid_1's SMAPE: 3.78367\n",
            "[9600]\ttraining's l1: 0.0271657\ttraining's SMAPE: 3.50263\tvalid_1's l1: 0.0292302\tvalid_1's SMAPE: 3.78343\n",
            "[9800]\ttraining's l1: 0.0271525\ttraining's SMAPE: 3.50088\tvalid_1's l1: 0.0292258\tvalid_1's SMAPE: 3.78288\n",
            "[10000]\ttraining's l1: 0.0271396\ttraining's SMAPE: 3.49916\tvalid_1's l1: 0.0292254\tvalid_1's SMAPE: 3.78286\n",
            "Early stopping, best iteration is:\n",
            "[9900]\ttraining's l1: 0.027146\ttraining's SMAPE: 3.50002\tvalid_1's l1: 0.0292246\tvalid_1's SMAPE: 3.78274\n"
          ],
          "name": "stdout"
        }
      ]
    },
    {
      "cell_type": "code",
      "metadata": {
        "execution": {
          "iopub.execute_input": "2021-03-24T16:10:53.521776Z",
          "iopub.status.busy": "2021-03-24T16:10:53.520653Z",
          "iopub.status.idle": "2021-03-24T16:11:05.449952Z",
          "shell.execute_reply": "2021-03-24T16:11:05.451004Z"
        },
        "papermill": {
          "duration": 12.009733,
          "end_time": "2021-03-24T16:11:05.451229",
          "exception": false,
          "start_time": "2021-03-24T16:10:53.441496",
          "status": "completed"
        },
        "tags": [],
        "id": "LNpzlGdPOU8c"
      },
      "source": [
        "# sales values in train dataset will be predicted, these are the log values\n",
        "\n",
        "y_pred_val = model.predict(X_val)"
      ],
      "execution_count": 75,
      "outputs": []
    },
    {
      "cell_type": "code",
      "metadata": {
        "execution": {
          "iopub.execute_input": "2021-03-24T16:11:05.609834Z",
          "iopub.status.busy": "2021-03-24T16:11:05.608634Z",
          "iopub.status.idle": "2021-03-24T16:11:05.623443Z",
          "shell.execute_reply": "2021-03-24T16:11:05.622898Z"
        },
        "papermill": {
          "duration": 0.094607,
          "end_time": "2021-03-24T16:11:05.623610",
          "exception": false,
          "start_time": "2021-03-24T16:11:05.529003",
          "status": "completed"
        },
        "tags": [],
        "colab": {
          "base_uri": "https://localhost:8080/"
        },
        "id": "5_6UA_dWOU8d",
        "outputId": "f138fa74-c5bb-4bcf-cbaf-40bfd2a63052"
      },
      "source": [
        "# log values are reversed and the predicted sales values are revealed. \n",
        "\n",
        "smape(np.expm1(y_pred_val), np.expm1(Y_val))"
      ],
      "execution_count": 76,
      "outputs": [
        {
          "output_type": "execute_result",
          "data": {
            "text/plain": [
              "3.7827392805059765"
            ]
          },
          "metadata": {
            "tags": []
          },
          "execution_count": 76
        }
      ]
    },
    {
      "cell_type": "markdown",
      "metadata": {
        "papermill": {
          "duration": 0.077286,
          "end_time": "2021-03-24T16:11:05.779703",
          "exception": false,
          "start_time": "2021-03-24T16:11:05.702417",
          "status": "completed"
        },
        "tags": [],
        "id": "OPdX0L4cOU8e"
      },
      "source": [
        "**Feature Importances**:\n",
        "\n",
        "These will be calculated based on split and gain values, that is how often they have been used for splitting the values and the gain of entropy."
      ]
    },
    {
      "cell_type": "code",
      "metadata": {
        "execution": {
          "iopub.execute_input": "2021-03-24T16:11:05.946530Z",
          "iopub.status.busy": "2021-03-24T16:11:05.945478Z",
          "iopub.status.idle": "2021-03-24T16:11:05.948175Z",
          "shell.execute_reply": "2021-03-24T16:11:05.948619Z"
        },
        "papermill": {
          "duration": 0.090026,
          "end_time": "2021-03-24T16:11:05.948831",
          "exception": false,
          "start_time": "2021-03-24T16:11:05.858805",
          "status": "completed"
        },
        "tags": [],
        "id": "LFzjJDpCOU8f"
      },
      "source": [
        "def plot_lgb_importances(model,plot=True,num=10):\n",
        "    from matplotlib import pyplot as plt\n",
        "    import seaborn as sns\n",
        "    gain = model.feature_importance('gain')\n",
        "    feat_imp = pd.DataFrame({'feature': model.feature_name(),\n",
        "                             'split': model.feature_importance('split'),\n",
        "                             'gain': 100 * gain / gain.sum()}).sort_values('gain', ascending=False)\n",
        "    if plot:\n",
        "        plt.figure(figsize=(10, 10))\n",
        "        sns.set(font_scale=1)\n",
        "        sns.barplot(x=\"gain\", y=\"feature\", data=feat_imp[0:25])\n",
        "        plt.title('feature')\n",
        "        plt.tight_layout()\n",
        "        plt.show()\n",
        "    else:\n",
        "        print(feat_imp.head(num))\n",
        "    print(feat_imp.head(num))"
      ],
      "execution_count": 77,
      "outputs": []
    },
    {
      "cell_type": "code",
      "metadata": {
        "execution": {
          "iopub.execute_input": "2021-03-24T16:11:06.106439Z",
          "iopub.status.busy": "2021-03-24T16:11:06.105416Z",
          "iopub.status.idle": "2021-03-24T16:11:06.815872Z",
          "shell.execute_reply": "2021-03-24T16:11:06.816375Z"
        },
        "papermill": {
          "duration": 0.792502,
          "end_time": "2021-03-24T16:11:06.816592",
          "exception": false,
          "start_time": "2021-03-24T16:11:06.024090",
          "status": "completed"
        },
        "tags": [],
        "colab": {
          "base_uri": "https://localhost:8080/",
          "height": 912
        },
        "id": "kCtLY4cNOU8g",
        "outputId": "98576e4d-afe1-4ac4-d134-1186db88ac75"
      },
      "source": [
        "plot_lgb_importances(model,30)"
      ],
      "execution_count": 78,
      "outputs": [
        {
          "output_type": "display_data",
          "data": {
            "image/png": "[encoded data removed]",
            "text/plain": [
              "<Figure size 720x720 with 1 Axes>"
            ]
          },
          "metadata": {
            "tags": [],
            "needs_background": "light"
          }
        },
        {
          "output_type": "stream",
          "text": [
            "                        feature  split       gain\n",
            "18          sales_roll_mean_730   4660  60.235744\n",
            "13                sales_lag_364   5737  10.918246\n",
            "17          sales_roll_mean_546   4220   7.743150\n",
            "61   sales_ewm_alpha_05_lag_365   1809   3.666591\n",
            "16          sales_roll_mean_365   3203   3.521501\n",
            "1                   day_of_year   5492   2.029423\n",
            "6                  sales_lag_91   1983   1.635154\n",
            "3                       is_wknd    893   1.345157\n",
            "124               day_of_week_1    659   1.313378\n",
            "142                    month_12   1001   1.201759\n"
          ],
          "name": "stdout"
        }
      ]
    },
    {
      "cell_type": "code",
      "metadata": {
        "execution": {
          "iopub.execute_input": "2021-03-24T16:11:06.988895Z",
          "iopub.status.busy": "2021-03-24T16:11:06.987642Z",
          "iopub.status.idle": "2021-03-24T16:11:07.551046Z",
          "shell.execute_reply": "2021-03-24T16:11:07.550449Z"
        },
        "papermill": {
          "duration": 0.653711,
          "end_time": "2021-03-24T16:11:07.551198",
          "exception": false,
          "start_time": "2021-03-24T16:11:06.897487",
          "status": "completed"
        },
        "tags": [],
        "colab": {
          "base_uri": "https://localhost:8080/",
          "height": 627
        },
        "id": "a0phAqtoOU8h",
        "outputId": "f7557ae6-f7ee-470d-fe7f-faa9686a369d"
      },
      "source": [
        "# this one is the built-in plot function of LightGBM library\n",
        "\n",
        "lgb.plot_importance(model, max_num_features=20, figsize=(10, 10), importance_type=\"gain\")\n",
        "plt.show()"
      ],
      "execution_count": 79,
      "outputs": [
        {
          "output_type": "display_data",
          "data": {
            "image/png": "[encoded data removed]",
            "text/plain": [
              "<Figure size 720x720 with 1 Axes>"
            ]
          },
          "metadata": {
            "tags": []
          }
        }
      ]
    },
    {
      "cell_type": "markdown",
      "metadata": {
        "papermill": {
          "duration": 0.083903,
          "end_time": "2021-03-24T16:11:07.717858",
          "exception": false,
          "start_time": "2021-03-24T16:11:07.633955",
          "status": "completed"
        },
        "tags": [],
        "id": "GjJh7y4NOU8i"
      },
      "source": [
        "<a id=\"section-fourteen\"></a>\n",
        "## 3.10.Final Model "
      ]
    },
    {
      "cell_type": "code",
      "metadata": {
        "execution": {
          "iopub.execute_input": "2021-03-24T16:11:07.887997Z",
          "iopub.status.busy": "2021-03-24T16:11:07.887324Z",
          "iopub.status.idle": "2021-03-24T16:11:08.633974Z",
          "shell.execute_reply": "2021-03-24T16:11:08.633197Z"
        },
        "papermill": {
          "duration": 0.834076,
          "end_time": "2021-03-24T16:11:08.634139",
          "exception": false,
          "start_time": "2021-03-24T16:11:07.800063",
          "status": "completed"
        },
        "tags": [],
        "id": "GQnI6SA5OU8j"
      },
      "source": [
        "train = df.loc[~df.sales.isna()]\n",
        "Y_train = train['sales']\n",
        "X_train = train[cols]\n",
        "\n",
        "test = df.loc[df.sales.isna()]\n",
        "X_test = test[cols]"
      ],
      "execution_count": 80,
      "outputs": []
    },
    {
      "cell_type": "code",
      "metadata": {
        "execution": {
          "iopub.execute_input": "2021-03-24T16:11:08.803210Z",
          "iopub.status.busy": "2021-03-24T16:11:08.802295Z",
          "iopub.status.idle": "2021-03-24T16:11:08.807031Z",
          "shell.execute_reply": "2021-03-24T16:11:08.807551Z"
        },
        "papermill": {
          "duration": 0.092683,
          "end_time": "2021-03-24T16:11:08.807780",
          "exception": false,
          "start_time": "2021-03-24T16:11:08.715097",
          "status": "completed"
        },
        "tags": [],
        "id": "Syy6cpPOOU8k"
      },
      "source": [
        "lgb_params = {'metric': {'mae'},\n",
        "              'num_leaves': 10,\n",
        "              'learning_rate': 0.02,\n",
        "              'feature_fraction': 0.8,\n",
        "              'max_depth': 5,\n",
        "              'verbose': 0,\n",
        "              'nthread': -1,\n",
        "              \"num_boost_round\": model.best_iteration}"
      ],
      "execution_count": 81,
      "outputs": []
    },
    {
      "cell_type": "code",
      "metadata": {
        "execution": {
          "iopub.execute_input": "2021-03-24T16:11:08.982319Z",
          "iopub.status.busy": "2021-03-24T16:11:08.981564Z",
          "iopub.status.idle": "2021-03-24T16:21:53.916418Z",
          "shell.execute_reply": "2021-03-24T16:21:53.917039Z"
        },
        "papermill": {
          "duration": 645.02445,
          "end_time": "2021-03-24T16:21:53.917306",
          "exception": false,
          "start_time": "2021-03-24T16:11:08.892856",
          "status": "completed"
        },
        "tags": [],
        "id": "lPiQpEkgOU8l"
      },
      "source": [
        "lgbtrain_all = lgb.Dataset(data=X_train, label=Y_train, feature_name=cols)\n",
        "final_model = lgb.train(lgb_params, lgbtrain_all, num_boost_round=model.best_iteration)\n",
        "test_preds = final_model.predict(X_test, num_iteration=model.best_iteration)"
      ],
      "execution_count": 82,
      "outputs": []
    },
    {
      "cell_type": "markdown",
      "metadata": {
        "papermill": {
          "duration": 0.080096,
          "end_time": "2021-03-24T16:21:54.080140",
          "exception": false,
          "start_time": "2021-03-24T16:21:54.000044",
          "status": "completed"
        },
        "tags": [],
        "id": "S3LDH1IxOU8m"
      },
      "source": [
        "<a id=\"section-fifteen\"></a>\n",
        "## 3.11.Submit Prediction "
      ]
    },
    {
      "cell_type": "code",
      "metadata": {
        "execution": {
          "iopub.execute_input": "2021-03-24T16:21:54.251074Z",
          "iopub.status.busy": "2021-03-24T16:21:54.250266Z",
          "iopub.status.idle": "2021-03-24T16:21:54.424545Z",
          "shell.execute_reply": "2021-03-24T16:21:54.423926Z"
        },
        "papermill": {
          "duration": 0.262194,
          "end_time": "2021-03-24T16:21:54.424726",
          "exception": false,
          "start_time": "2021-03-24T16:21:54.162532",
          "status": "completed"
        },
        "tags": [],
        "id": "qAaX1VmpOU8n"
      },
      "source": [
        "submission_df = test.loc[:, ['id', 'sales']]\n",
        "submission_df['sales'] = np.expm1(test_preds)\n",
        "submission_df['id'] = submission_df.id.astype(int)\n",
        "submission_df.to_csv('submission_dps.csv', index=False)"
      ],
      "execution_count": 84,
      "outputs": []
    }
  ]
}